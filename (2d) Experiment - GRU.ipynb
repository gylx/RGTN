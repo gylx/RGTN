{
 "cells": [
  {
   "cell_type": "code",
   "execution_count": 1,
   "metadata": {},
   "outputs": [],
   "source": [
    "import tensorflow as tf\n",
    "import pandas as pd\n",
    "import numpy as np\n",
    "\n",
    "from rgtn import SpecialRGTN, GeneralRGTN, TensorTrainLayer"
   ]
  },
  {
   "cell_type": "code",
   "execution_count": 2,
   "metadata": {},
   "outputs": [],
   "source": [
    "np.random.seed(0)\n",
    "tf.random.set_seed(0)"
   ]
  },
  {
   "cell_type": "markdown",
   "metadata": {},
   "source": [
    "# Model"
   ]
  },
  {
   "cell_type": "code",
   "execution_count": 3,
   "metadata": {},
   "outputs": [],
   "source": [
    "def get_model(\n",
    "    units, \n",
    "    input_shape, \n",
    "    output_shape, \n",
    "    loss, \n",
    "    metric, \n",
    "    act='tanh', \n",
    "    opt='adam', \n",
    "    verbose=True\n",
    "):\n",
    "\n",
    "    mdl = tf.keras.models.Sequential()\n",
    "\n",
    "    mdl.add(tf.keras.layers.Input(input_shape))\n",
    "\n",
    "    # Features layer\n",
    "    mdl.add(tf.keras.layers.GRU(units, return_sequences=False, activation='linear'))\n",
    "    mdl.add(tf.keras.layers.Activation(act))\n",
    "\n",
    "    # Dense layer\n",
    "    mdl.add(tf.keras.layers.Flatten())\n",
    "    mdl.add(tf.keras.layers.Dense(units))\n",
    "    mdl.add(tf.keras.layers.Activation(act))\n",
    "\n",
    "    # Output layer\n",
    "    mdl.add(tf.keras.layers.Dense(output_shape))\n",
    "    \n",
    "    if metric=='accuracy':\n",
    "        mdl.add(tf.keras.layers.Activation('softmax'))\n",
    "\n",
    "    mdl.compile(loss=loss,  optimizer=opt, metrics=[metric])\n",
    "    \n",
    "    if verbose:\n",
    "        print(mdl.summary())\n",
    "    \n",
    "    return mdl"
   ]
  },
  {
   "cell_type": "markdown",
   "metadata": {},
   "source": [
    "# Air Quality"
   ]
  },
  {
   "cell_type": "code",
   "execution_count": 4,
   "metadata": {},
   "outputs": [
    {
     "data": {
      "text/plain": [
       "((17529, 6, 12, 27), (17529, 12))"
      ]
     },
     "execution_count": 4,
     "metadata": {},
     "output_type": "execute_result"
    }
   ],
   "source": [
    "X, Y = pd.read_pickle('ML Data/air_quality.pkl')\n",
    "X.shape, Y.shape"
   ]
  },
  {
   "cell_type": "code",
   "execution_count": 5,
   "metadata": {},
   "outputs": [
    {
     "data": {
      "text/plain": [
       "((17529, 6, 324), (17529, 12))"
      ]
     },
     "execution_count": 5,
     "metadata": {},
     "output_type": "execute_result"
    }
   ],
   "source": [
    "X = X.reshape(-1, X.shape[1], np.prod(X.shape[2:]))\n",
    "X.shape, Y.shape"
   ]
  },
  {
   "cell_type": "code",
   "execution_count": 6,
   "metadata": {},
   "outputs": [],
   "source": [
    "# Model params\n",
    "mdl_params = {\n",
    "    'units': 8,\n",
    "    'input_shape': X.shape[1:],\n",
    "    'output_shape': Y.shape[-1],\n",
    "    'loss': 'mse',\n",
    "    'metric': 'mae',\n",
    "    'verbose': 1,\n",
    "}\n",
    "\n",
    "# Exp params\n",
    "tr_split = 0.80  \n",
    "va_split = 0.1  \n",
    "exp_rep = 5  \n",
    "epochs = 30  \n",
    "batch_size = 32  \n",
    "verbose = 0"
   ]
  },
  {
   "cell_type": "code",
   "execution_count": 7,
   "metadata": {},
   "outputs": [
    {
     "name": "stdout",
     "output_type": "stream",
     "text": [
      "Model: \"sequential\"\n",
      "_________________________________________________________________\n",
      "Layer (type)                 Output Shape              Param #   \n",
      "=================================================================\n",
      "gru (GRU)                    (None, 8)                 8016      \n",
      "_________________________________________________________________\n",
      "activation (Activation)      (None, 8)                 0         \n",
      "_________________________________________________________________\n",
      "flatten (Flatten)            (None, 8)                 0         \n",
      "_________________________________________________________________\n",
      "dense (Dense)                (None, 8)                 72        \n",
      "_________________________________________________________________\n",
      "activation_1 (Activation)    (None, 8)                 0         \n",
      "_________________________________________________________________\n",
      "dense_1 (Dense)              (None, 12)                108       \n",
      "=================================================================\n",
      "Total params: 8,196\n",
      "Trainable params: 8,196\n",
      "Non-trainable params: 0\n",
      "_________________________________________________________________\n",
      "None\n",
      "110/110 [==============================] - 0s 855us/step - loss: 7.8120e-04 - mae: 0.0173\n",
      "Score:  0.01734180934727192\n",
      "110/110 [==============================] - 0s 818us/step - loss: 8.2723e-04 - mae: 0.0168\n",
      "Score:  0.016753381118178368\n",
      "110/110 [==============================] - 0s 887us/step - loss: 7.7491e-04 - mae: 0.0167\n",
      "Score:  0.016684796661138535\n",
      "110/110 [==============================] - 0s 874us/step - loss: 7.6179e-04 - mae: 0.0164\n",
      "Score:  0.016449863091111183\n",
      "110/110 [==============================] - 0s 865us/step - loss: 8.5724e-04 - mae: 0.0181\n",
      "Score:  0.018070654943585396\n",
      "Final score: 0.01706 +/- 0.00058\n"
     ]
    }
   ],
   "source": [
    "scores = []\n",
    "for i in range(exp_rep):\n",
    "\n",
    "    # Train test split\n",
    "    tr_choice = np.random.choice(X.shape[0], int(X.shape[0]*tr_split), replace=False)\n",
    "    te_choice = np.array(list(set(range(X.shape[0])) - set(tr_choice)))\n",
    "    assert(len(set(tr_choice)) + len(set(te_choice)) == X.shape[0])\n",
    "    \n",
    "    X_tr, Y_tr = X[tr_choice], Y[tr_choice]\n",
    "    X_te, Y_te = X[te_choice], Y[te_choice]    \n",
    "    \n",
    "    mdl = get_model(**mdl_params)\n",
    "    mdl_params['verbose'] = 0\n",
    "    mdl.fit(X_tr, Y_tr, epochs=epochs, batch_size=batch_size, validation_split=va_split, verbose=verbose)\n",
    "    scores.append(mdl.evaluate(X_te, Y_te)[-1])\n",
    "    print('Score: ', scores[-1])\n",
    "    \n",
    "print(f'Final score: {round(np.mean(scores), 5)} +/- {round(np.std(scores), 5)}')"
   ]
  },
  {
   "cell_type": "markdown",
   "metadata": {},
   "source": [
    "# Climate Change"
   ]
  },
  {
   "cell_type": "code",
   "execution_count": 8,
   "metadata": {},
   "outputs": [
    {
     "data": {
      "text/plain": [
       "((2607, 6, 14, 4), (2607, 14))"
      ]
     },
     "execution_count": 8,
     "metadata": {},
     "output_type": "execute_result"
    }
   ],
   "source": [
    "X, Y = pd.read_pickle('ML Data/climate_change.pkl')\n",
    "X.shape, Y.shape"
   ]
  },
  {
   "cell_type": "code",
   "execution_count": 9,
   "metadata": {},
   "outputs": [
    {
     "data": {
      "text/plain": [
       "((2607, 6, 56), (2607, 14))"
      ]
     },
     "execution_count": 9,
     "metadata": {},
     "output_type": "execute_result"
    }
   ],
   "source": [
    "X = X.reshape(-1, X.shape[1], np.prod(X.shape[2:]))\n",
    "X.shape, Y.shape"
   ]
  },
  {
   "cell_type": "code",
   "execution_count": 10,
   "metadata": {},
   "outputs": [],
   "source": [
    "# Model params\n",
    "mdl_params = {\n",
    "    'units': 8,\n",
    "    'input_shape': X.shape[1:],\n",
    "    'output_shape': Y.shape[-1],\n",
    "    'loss': 'mse',\n",
    "    'metric': 'mae',\n",
    "    'verbose': 1,\n",
    "}\n",
    "\n",
    "# Exp params\n",
    "tr_split = 0.80  \n",
    "va_split = 0.1  \n",
    "exp_rep = 5  \n",
    "epochs = 30  \n",
    "batch_size = 32  \n",
    "verbose = 0"
   ]
  },
  {
   "cell_type": "code",
   "execution_count": 11,
   "metadata": {},
   "outputs": [
    {
     "name": "stdout",
     "output_type": "stream",
     "text": [
      "Model: \"sequential_5\"\n",
      "_________________________________________________________________\n",
      "Layer (type)                 Output Shape              Param #   \n",
      "=================================================================\n",
      "gru_5 (GRU)                  (None, 8)                 1584      \n",
      "_________________________________________________________________\n",
      "activation_10 (Activation)   (None, 8)                 0         \n",
      "_________________________________________________________________\n",
      "flatten_5 (Flatten)          (None, 8)                 0         \n",
      "_________________________________________________________________\n",
      "dense_10 (Dense)             (None, 8)                 72        \n",
      "_________________________________________________________________\n",
      "activation_11 (Activation)   (None, 8)                 0         \n",
      "_________________________________________________________________\n",
      "dense_11 (Dense)             (None, 14)                126       \n",
      "=================================================================\n",
      "Total params: 1,782\n",
      "Trainable params: 1,782\n",
      "Non-trainable params: 0\n",
      "_________________________________________________________________\n",
      "None\n",
      "17/17 [==============================] - 0s 991us/step - loss: 0.0589 - mae: 0.1769\n",
      "Score:  0.1768936663866043\n",
      "17/17 [==============================] - 0s 1ms/step - loss: 0.0680 - mae: 0.1818\n",
      "Score:  0.18180450797080994\n",
      "17/17 [==============================] - 0s 1ms/step - loss: 0.0596 - mae: 0.1757\n",
      "Score:  0.1757396012544632\n",
      "17/17 [==============================] - 0s 941us/step - loss: 0.0598 - mae: 0.1769\n",
      "Score:  0.1768704652786255\n",
      "17/17 [==============================] - 0s 1ms/step - loss: 0.0720 - mae: 0.1912\n",
      "Score:  0.19118210673332214\n",
      "Final score: 0.1805 +/- 0.00574\n"
     ]
    }
   ],
   "source": [
    "scores = []\n",
    "for i in range(exp_rep):\n",
    "\n",
    "    # Train test split\n",
    "    tr_choice = np.random.choice(X.shape[0], int(X.shape[0]*tr_split), replace=False)\n",
    "    te_choice = np.array(list(set(range(X.shape[0])) - set(tr_choice)))\n",
    "    assert(len(set(tr_choice)) + len(set(te_choice)) == X.shape[0])\n",
    "    \n",
    "    X_tr, Y_tr = X[tr_choice], Y[tr_choice]\n",
    "    X_te, Y_te = X[te_choice], Y[te_choice]    \n",
    "    \n",
    "    mdl = get_model(**mdl_params)\n",
    "    mdl_params['verbose'] = 0\n",
    "    mdl.fit(X_tr, Y_tr, epochs=epochs, batch_size=batch_size, validation_split=va_split, verbose=verbose)\n",
    "    scores.append(mdl.evaluate(X_te, Y_te)[-1])\n",
    "    print('Score: ', scores[-1])\n",
    "    \n",
    "print(f'Final score: {round(np.mean(scores), 5)} +/- {round(np.std(scores), 5)}')"
   ]
  },
  {
   "cell_type": "markdown",
   "metadata": {},
   "source": [
    "# House Price"
   ]
  },
  {
   "cell_type": "code",
   "execution_count": 12,
   "metadata": {},
   "outputs": [
    {
     "data": {
      "text/plain": [
       "((304, 6, 4, 2), (304, 4))"
      ]
     },
     "execution_count": 12,
     "metadata": {},
     "output_type": "execute_result"
    }
   ],
   "source": [
    "X, Y = pd.read_pickle('ML Data/house_price.pkl')\n",
    "X.shape, Y.shape"
   ]
  },
  {
   "cell_type": "code",
   "execution_count": 13,
   "metadata": {},
   "outputs": [
    {
     "data": {
      "text/plain": [
       "((304, 6, 8), (304, 4))"
      ]
     },
     "execution_count": 13,
     "metadata": {},
     "output_type": "execute_result"
    }
   ],
   "source": [
    "X = X.reshape(-1, X.shape[1], np.prod(X.shape[2:]))\n",
    "X.shape, Y.shape"
   ]
  },
  {
   "cell_type": "code",
   "execution_count": 14,
   "metadata": {},
   "outputs": [],
   "source": [
    "# Model params\n",
    "mdl_params = {\n",
    "    'units': 8,\n",
    "    'input_shape': X.shape[1:],\n",
    "    'output_shape': Y.shape[-1],\n",
    "    'loss': 'mse',\n",
    "    'metric': 'mae',\n",
    "    'verbose': 1,\n",
    "}\n",
    "\n",
    "# Exp params\n",
    "tr_split = 0.80  \n",
    "va_split = 0.1  \n",
    "exp_rep = 5  \n",
    "epochs = 30  \n",
    "batch_size = 32  \n",
    "verbose = 0"
   ]
  },
  {
   "cell_type": "code",
   "execution_count": 15,
   "metadata": {},
   "outputs": [
    {
     "name": "stdout",
     "output_type": "stream",
     "text": [
      "Model: \"sequential_10\"\n",
      "_________________________________________________________________\n",
      "Layer (type)                 Output Shape              Param #   \n",
      "=================================================================\n",
      "gru_10 (GRU)                 (None, 8)                 432       \n",
      "_________________________________________________________________\n",
      "activation_20 (Activation)   (None, 8)                 0         \n",
      "_________________________________________________________________\n",
      "flatten_10 (Flatten)         (None, 8)                 0         \n",
      "_________________________________________________________________\n",
      "dense_20 (Dense)             (None, 8)                 72        \n",
      "_________________________________________________________________\n",
      "activation_21 (Activation)   (None, 8)                 0         \n",
      "_________________________________________________________________\n",
      "dense_21 (Dense)             (None, 4)                 36        \n",
      "=================================================================\n",
      "Total params: 540\n",
      "Trainable params: 540\n",
      "Non-trainable params: 0\n",
      "_________________________________________________________________\n",
      "None\n",
      "2/2 [==============================] - 0s 2ms/step - loss: 0.8208 - mae: 0.7320\n",
      "Score:  0.7319970726966858\n",
      "2/2 [==============================] - 0s 2ms/step - loss: 0.8470 - mae: 0.7147\n",
      "Score:  0.7146607041358948\n",
      "2/2 [==============================] - 0s 2ms/step - loss: 0.8087 - mae: 0.7452\n",
      "Score:  0.7451924681663513\n",
      "2/2 [==============================] - 0s 2ms/step - loss: 0.8243 - mae: 0.7322\n",
      "Score:  0.7322463989257812\n",
      "2/2 [==============================] - 0s 2ms/step - loss: 0.9617 - mae: 0.7800\n",
      "Score:  0.7799592018127441\n",
      "Final score: 0.74081 +/- 0.02185\n"
     ]
    }
   ],
   "source": [
    "scores = []\n",
    "for i in range(exp_rep):\n",
    "\n",
    "    # Train test split\n",
    "    tr_choice = np.random.choice(X.shape[0], int(X.shape[0]*tr_split), replace=False)\n",
    "    te_choice = np.array(list(set(range(X.shape[0])) - set(tr_choice)))\n",
    "    assert(len(set(tr_choice)) + len(set(te_choice)) == X.shape[0])\n",
    "    \n",
    "    X_tr, Y_tr = X[tr_choice], Y[tr_choice]\n",
    "    X_te, Y_te = X[te_choice], Y[te_choice]    \n",
    "    \n",
    "    mdl = get_model(**mdl_params)\n",
    "    mdl_params['verbose'] = 0\n",
    "    mdl.fit(X_tr, Y_tr, epochs=epochs, batch_size=batch_size, validation_split=va_split, verbose=verbose)\n",
    "    scores.append(mdl.evaluate(X_te, Y_te)[-1])\n",
    "    print('Score: ', scores[-1])\n",
    "    \n",
    "print(f'Final score: {round(np.mean(scores), 5)} +/- {round(np.std(scores), 5)}')"
   ]
  },
  {
   "cell_type": "markdown",
   "metadata": {},
   "source": [
    "# Activity Recognition"
   ]
  },
  {
   "cell_type": "code",
   "execution_count": 16,
   "metadata": {},
   "outputs": [
    {
     "data": {
      "text/plain": [
       "((34199, 24, 3, 3), (34199, 5))"
      ]
     },
     "execution_count": 16,
     "metadata": {},
     "output_type": "execute_result"
    }
   ],
   "source": [
    "X, Y = pd.read_pickle('ML Data/activity_recognition.pkl')\n",
    "X.shape, Y.shape"
   ]
  },
  {
   "cell_type": "code",
   "execution_count": 17,
   "metadata": {},
   "outputs": [
    {
     "data": {
      "text/plain": [
       "((34199, 24, 9), (34199, 5))"
      ]
     },
     "execution_count": 17,
     "metadata": {},
     "output_type": "execute_result"
    }
   ],
   "source": [
    "X = X.reshape(-1, X.shape[1], np.prod(X.shape[2:]))\n",
    "X.shape, Y.shape"
   ]
  },
  {
   "cell_type": "code",
   "execution_count": 18,
   "metadata": {},
   "outputs": [],
   "source": [
    "# Model params\n",
    "mdl_params = {\n",
    "    'units': 8,\n",
    "    'input_shape': X.shape[1:],\n",
    "    'output_shape': Y.shape[-1],\n",
    "    'loss': 'categorical_crossentropy',\n",
    "    'metric': 'accuracy',\n",
    "    'verbose': 1,\n",
    "}\n",
    "\n",
    "# Exp params\n",
    "tr_split = 0.80  \n",
    "va_split = 0.1  \n",
    "exp_rep = 5  \n",
    "epochs = 30  \n",
    "batch_size = 32  \n",
    "verbose = 0"
   ]
  },
  {
   "cell_type": "code",
   "execution_count": 19,
   "metadata": {},
   "outputs": [
    {
     "name": "stdout",
     "output_type": "stream",
     "text": [
      "Model: \"sequential_15\"\n",
      "_________________________________________________________________\n",
      "Layer (type)                 Output Shape              Param #   \n",
      "=================================================================\n",
      "gru_15 (GRU)                 (None, 8)                 456       \n",
      "_________________________________________________________________\n",
      "activation_30 (Activation)   (None, 8)                 0         \n",
      "_________________________________________________________________\n",
      "flatten_15 (Flatten)         (None, 8)                 0         \n",
      "_________________________________________________________________\n",
      "dense_30 (Dense)             (None, 8)                 72        \n",
      "_________________________________________________________________\n",
      "activation_31 (Activation)   (None, 8)                 0         \n",
      "_________________________________________________________________\n",
      "dense_31 (Dense)             (None, 5)                 45        \n",
      "_________________________________________________________________\n",
      "activation_32 (Activation)   (None, 5)                 0         \n",
      "=================================================================\n",
      "Total params: 573\n",
      "Trainable params: 573\n",
      "Non-trainable params: 0\n",
      "_________________________________________________________________\n",
      "None\n",
      "214/214 [==============================] - 0s 1ms/step - loss: 0.4778 - accuracy: 0.7863\n",
      "Score:  0.7862573266029358\n",
      "214/214 [==============================] - 0s 1ms/step - loss: 0.4365 - accuracy: 0.7971\n",
      "Score:  0.7970760464668274\n",
      "214/214 [==============================] - 0s 1ms/step - loss: 0.4283 - accuracy: 0.7949\n",
      "Score:  0.7948830127716064\n",
      "214/214 [==============================] - 0s 1ms/step - loss: 0.4153 - accuracy: 0.8056\n",
      "Score:  0.8055555820465088\n",
      "214/214 [==============================] - 0s 1ms/step - loss: 0.4373 - accuracy: 0.7861\n",
      "Score:  0.7861111164093018\n",
      "Final score: 0.79398 +/- 0.00729\n"
     ]
    }
   ],
   "source": [
    "scores = []\n",
    "for i in range(exp_rep):\n",
    "\n",
    "    # Train test split\n",
    "    tr_choice = np.random.choice(X.shape[0], int(X.shape[0]*tr_split), replace=False)\n",
    "    te_choice = np.array(list(set(range(X.shape[0])) - set(tr_choice)))\n",
    "    assert(len(set(tr_choice)) + len(set(te_choice)) == X.shape[0])\n",
    "    \n",
    "    X_tr, Y_tr = X[tr_choice], Y[tr_choice]\n",
    "    X_te, Y_te = X[te_choice], Y[te_choice]    \n",
    "    \n",
    "    mdl = get_model(**mdl_params)\n",
    "    mdl_params['verbose'] = 0\n",
    "    mdl.fit(X_tr, Y_tr, epochs=epochs, batch_size=batch_size, validation_split=va_split, verbose=verbose)\n",
    "    scores.append(mdl.evaluate(X_te, Y_te)[-1])\n",
    "    print('Score: ', scores[-1])\n",
    "    \n",
    "print(f'Final score: {round(np.mean(scores), 5)} +/- {round(np.std(scores), 5)}')"
   ]
  },
  {
   "cell_type": "code",
   "execution_count": null,
   "metadata": {},
   "outputs": [],
   "source": []
  }
 ],
 "metadata": {
  "kernelspec": {
   "display_name": "Python 3",
   "language": "python",
   "name": "python3"
  },
  "language_info": {
   "codemirror_mode": {
    "name": "ipython",
    "version": 3
   },
   "file_extension": ".py",
   "mimetype": "text/x-python",
   "name": "python",
   "nbconvert_exporter": "python",
   "pygments_lexer": "ipython3",
   "version": "3.7.9"
  }
 },
 "nbformat": 4,
 "nbformat_minor": 4
}
