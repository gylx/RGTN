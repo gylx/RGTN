{
 "cells": [
  {
   "cell_type": "code",
   "execution_count": null,
   "metadata": {},
   "outputs": [],
   "source": [
    "import tensorflow as tf\n",
    "import pandas as pd\n",
    "import numpy as np\n",
    "\n",
    "from rgtn import SpecialRGTN, GeneralRGTN, TensorTrainLayer"
   ]
  },
  {
   "cell_type": "code",
   "execution_count": 2,
   "metadata": {},
   "outputs": [],
   "source": [
    "np.random.seed(0)\n",
    "tf.random.set_seed(0)"
   ]
  },
  {
   "cell_type": "markdown",
   "metadata": {},
   "source": [
    "# Model"
   ]
  },
  {
   "cell_type": "code",
   "execution_count": 3,
   "metadata": {},
   "outputs": [],
   "source": [
    "def get_model(\n",
    "    units, \n",
    "    input_shape, \n",
    "    output_shape, \n",
    "    loss, \n",
    "    metric, \n",
    "    act='tanh', \n",
    "    opt='adam', \n",
    "    verbose=True\n",
    "):\n",
    "\n",
    "    mdl = tf.keras.models.Sequential()\n",
    "\n",
    "    mdl.add(tf.keras.layers.Input(input_shape))\n",
    "\n",
    "    # Features layer\n",
    "    mdl.add(tf.keras.layers.LSTM(units, return_sequences=False, activation='linear'))\n",
    "    mdl.add(tf.keras.layers.Activation(act))\n",
    "\n",
    "    # Dense layer\n",
    "    mdl.add(tf.keras.layers.Flatten())\n",
    "    mdl.add(tf.keras.layers.Dense(units))\n",
    "    mdl.add(tf.keras.layers.Activation(act))\n",
    "\n",
    "    # Output layer\n",
    "    mdl.add(tf.keras.layers.Dense(output_shape))\n",
    "    \n",
    "    if metric=='accuracy':\n",
    "        mdl.add(tf.keras.layers.Activation('softmax'))\n",
    "\n",
    "    mdl.compile(loss=loss,  optimizer=opt, metrics=[metric])\n",
    "    \n",
    "    if verbose:\n",
    "        print(mdl.summary())\n",
    "    \n",
    "    return mdl"
   ]
  },
  {
   "cell_type": "markdown",
   "metadata": {},
   "source": [
    "# Air Quality"
   ]
  },
  {
   "cell_type": "code",
   "execution_count": 4,
   "metadata": {},
   "outputs": [
    {
     "data": {
      "text/plain": [
       "((17529, 6, 12, 27), (17529, 12))"
      ]
     },
     "execution_count": 4,
     "metadata": {},
     "output_type": "execute_result"
    }
   ],
   "source": [
    "X, Y = pd.read_pickle('ML Data/air_quality.pkl')\n",
    "X.shape, Y.shape"
   ]
  },
  {
   "cell_type": "code",
   "execution_count": 5,
   "metadata": {},
   "outputs": [
    {
     "data": {
      "text/plain": [
       "((17529, 6, 324), (17529, 12))"
      ]
     },
     "execution_count": 5,
     "metadata": {},
     "output_type": "execute_result"
    }
   ],
   "source": [
    "X = X.reshape(-1, X.shape[1], np.prod(X.shape[2:]))\n",
    "X.shape, Y.shape"
   ]
  },
  {
   "cell_type": "code",
   "execution_count": 6,
   "metadata": {},
   "outputs": [],
   "source": [
    "# Model params\n",
    "mdl_params = {\n",
    "    'units': 8,\n",
    "    'input_shape': X.shape[1:],\n",
    "    'output_shape': Y.shape[-1],\n",
    "    'loss': 'mse',\n",
    "    'metric': 'mae',\n",
    "    'verbose': 1,\n",
    "}\n",
    "\n",
    "# Exp params\n",
    "tr_split = 0.80  \n",
    "va_split = 0.1  \n",
    "exp_rep = 5  \n",
    "epochs = 30  \n",
    "batch_size = 32  \n",
    "verbose = 0"
   ]
  },
  {
   "cell_type": "code",
   "execution_count": 7,
   "metadata": {},
   "outputs": [
    {
     "name": "stdout",
     "output_type": "stream",
     "text": [
      "Model: \"sequential\"\n",
      "_________________________________________________________________\n",
      "Layer (type)                 Output Shape              Param #   \n",
      "=================================================================\n",
      "lstm (LSTM)                  (None, 8)                 10656     \n",
      "_________________________________________________________________\n",
      "activation (Activation)      (None, 8)                 0         \n",
      "_________________________________________________________________\n",
      "flatten (Flatten)            (None, 8)                 0         \n",
      "_________________________________________________________________\n",
      "dense (Dense)                (None, 8)                 72        \n",
      "_________________________________________________________________\n",
      "activation_1 (Activation)    (None, 8)                 0         \n",
      "_________________________________________________________________\n",
      "dense_1 (Dense)              (None, 12)                108       \n",
      "=================================================================\n",
      "Total params: 10,836\n",
      "Trainable params: 10,836\n",
      "Non-trainable params: 0\n",
      "_________________________________________________________________\n",
      "None\n",
      "110/110 [==============================] - 0s 826us/step - loss: 7.6403e-04 - mae: 0.0176\n",
      "Score:  0.01760037988424301\n",
      "110/110 [==============================] - 0s 883us/step - loss: 7.8221e-04 - mae: 0.0161\n",
      "Score:  0.016105923801660538\n",
      "110/110 [==============================] - 0s 888us/step - loss: 7.3418e-04 - mae: 0.0164\n",
      "Score:  0.016377268359065056\n",
      "110/110 [==============================] - 0s 871us/step - loss: 7.4748e-04 - mae: 0.0164\n",
      "Score:  0.016398293897509575\n",
      "110/110 [==============================] - 0s 876us/step - loss: 7.3487e-04 - mae: 0.0161\n",
      "Score:  0.016097884625196457\n",
      "Final score: 0.01652 +/- 0.00056\n"
     ]
    }
   ],
   "source": [
    "scores = []\n",
    "for i in range(exp_rep):\n",
    "\n",
    "    # Train test split\n",
    "    tr_choice = np.random.choice(X.shape[0], int(X.shape[0]*tr_split), replace=False)\n",
    "    te_choice = np.array(list(set(range(X.shape[0])) - set(tr_choice)))\n",
    "    assert(len(set(tr_choice)) + len(set(te_choice)) == X.shape[0])\n",
    "    \n",
    "    X_tr, Y_tr = X[tr_choice], Y[tr_choice]\n",
    "    X_te, Y_te = X[te_choice], Y[te_choice]    \n",
    "    \n",
    "    mdl = get_model(**mdl_params)\n",
    "    mdl_params['verbose'] = 0\n",
    "    mdl.fit(X_tr, Y_tr, epochs=epochs, batch_size=batch_size, validation_split=va_split, verbose=verbose)\n",
    "    scores.append(mdl.evaluate(X_te, Y_te)[-1])\n",
    "    print('Score: ', scores[-1])\n",
    "    \n",
    "print(f'Final score: {round(np.mean(scores), 5)} +/- {round(np.std(scores), 5)}')"
   ]
  },
  {
   "cell_type": "markdown",
   "metadata": {},
   "source": [
    "# Climate Change"
   ]
  },
  {
   "cell_type": "code",
   "execution_count": 8,
   "metadata": {},
   "outputs": [
    {
     "data": {
      "text/plain": [
       "((2607, 6, 14, 4), (2607, 14))"
      ]
     },
     "execution_count": 8,
     "metadata": {},
     "output_type": "execute_result"
    }
   ],
   "source": [
    "X, Y = pd.read_pickle('ML Data/climate_change.pkl')\n",
    "X.shape, Y.shape"
   ]
  },
  {
   "cell_type": "code",
   "execution_count": 9,
   "metadata": {},
   "outputs": [
    {
     "data": {
      "text/plain": [
       "((2607, 6, 56), (2607, 14))"
      ]
     },
     "execution_count": 9,
     "metadata": {},
     "output_type": "execute_result"
    }
   ],
   "source": [
    "X = X.reshape(-1, X.shape[1], np.prod(X.shape[2:]))\n",
    "X.shape, Y.shape"
   ]
  },
  {
   "cell_type": "code",
   "execution_count": 10,
   "metadata": {},
   "outputs": [],
   "source": [
    "# Model params\n",
    "mdl_params = {\n",
    "    'units': 8,\n",
    "    'input_shape': X.shape[1:],\n",
    "    'output_shape': Y.shape[-1],\n",
    "    'loss': 'mse',\n",
    "    'metric': 'mae',\n",
    "    'verbose': 1,\n",
    "}\n",
    "\n",
    "# Exp params\n",
    "tr_split = 0.80  \n",
    "va_split = 0.1  \n",
    "exp_rep = 5  \n",
    "epochs = 30  \n",
    "batch_size = 32  \n",
    "verbose = 0"
   ]
  },
  {
   "cell_type": "code",
   "execution_count": 11,
   "metadata": {},
   "outputs": [
    {
     "name": "stdout",
     "output_type": "stream",
     "text": [
      "Model: \"sequential_5\"\n",
      "_________________________________________________________________\n",
      "Layer (type)                 Output Shape              Param #   \n",
      "=================================================================\n",
      "lstm_5 (LSTM)                (None, 8)                 2080      \n",
      "_________________________________________________________________\n",
      "activation_10 (Activation)   (None, 8)                 0         \n",
      "_________________________________________________________________\n",
      "flatten_5 (Flatten)          (None, 8)                 0         \n",
      "_________________________________________________________________\n",
      "dense_10 (Dense)             (None, 8)                 72        \n",
      "_________________________________________________________________\n",
      "activation_11 (Activation)   (None, 8)                 0         \n",
      "_________________________________________________________________\n",
      "dense_11 (Dense)             (None, 14)                126       \n",
      "=================================================================\n",
      "Total params: 2,278\n",
      "Trainable params: 2,278\n",
      "Non-trainable params: 0\n",
      "_________________________________________________________________\n",
      "None\n",
      "17/17 [==============================] - 0s 1ms/step - loss: 0.0559 - mae: 0.1701\n",
      "Score:  0.17009013891220093\n",
      "17/17 [==============================] - 0s 872us/step - loss: 0.0672 - mae: 0.1789\n",
      "Score:  0.1788979321718216\n",
      "17/17 [==============================] - 0s 972us/step - loss: 0.0558 - mae: 0.1710\n",
      "Score:  0.1709587723016739\n",
      "17/17 [==============================] - 0s 929us/step - loss: 0.0673 - mae: 0.1824\n",
      "Score:  0.1824016273021698\n",
      "17/17 [==============================] - 0s 1ms/step - loss: 0.0708 - mae: 0.1849\n",
      "Score:  0.1848597377538681\n",
      "Final score: 0.17744 +/- 0.00596\n"
     ]
    }
   ],
   "source": [
    "scores = []\n",
    "for i in range(exp_rep):\n",
    "\n",
    "    # Train test split\n",
    "    tr_choice = np.random.choice(X.shape[0], int(X.shape[0]*tr_split), replace=False)\n",
    "    te_choice = np.array(list(set(range(X.shape[0])) - set(tr_choice)))\n",
    "    assert(len(set(tr_choice)) + len(set(te_choice)) == X.shape[0])\n",
    "    \n",
    "    X_tr, Y_tr = X[tr_choice], Y[tr_choice]\n",
    "    X_te, Y_te = X[te_choice], Y[te_choice]    \n",
    "    \n",
    "    mdl = get_model(**mdl_params)\n",
    "    mdl_params['verbose'] = 0\n",
    "    mdl.fit(X_tr, Y_tr, epochs=epochs, batch_size=batch_size, validation_split=va_split, verbose=verbose)\n",
    "    scores.append(mdl.evaluate(X_te, Y_te)[-1])\n",
    "    print('Score: ', scores[-1])\n",
    "    \n",
    "print(f'Final score: {round(np.mean(scores), 5)} +/- {round(np.std(scores), 5)}')"
   ]
  },
  {
   "cell_type": "markdown",
   "metadata": {},
   "source": [
    "# House Price"
   ]
  },
  {
   "cell_type": "code",
   "execution_count": 12,
   "metadata": {},
   "outputs": [
    {
     "data": {
      "text/plain": [
       "((304, 6, 4, 2), (304, 4))"
      ]
     },
     "execution_count": 12,
     "metadata": {},
     "output_type": "execute_result"
    }
   ],
   "source": [
    "X, Y = pd.read_pickle('ML Data/house_price.pkl')\n",
    "X.shape, Y.shape"
   ]
  },
  {
   "cell_type": "code",
   "execution_count": 13,
   "metadata": {},
   "outputs": [
    {
     "data": {
      "text/plain": [
       "((304, 6, 8), (304, 4))"
      ]
     },
     "execution_count": 13,
     "metadata": {},
     "output_type": "execute_result"
    }
   ],
   "source": [
    "X = X.reshape(-1, X.shape[1], np.prod(X.shape[2:]))\n",
    "X.shape, Y.shape"
   ]
  },
  {
   "cell_type": "code",
   "execution_count": 14,
   "metadata": {},
   "outputs": [],
   "source": [
    "# Model params\n",
    "mdl_params = {\n",
    "    'units': 8,\n",
    "    'input_shape': X.shape[1:],\n",
    "    'output_shape': Y.shape[-1],\n",
    "    'loss': 'mse',\n",
    "    'metric': 'mae',\n",
    "    'verbose': 1,\n",
    "}\n",
    "\n",
    "# Exp params\n",
    "tr_split = 0.80  \n",
    "va_split = 0.1  \n",
    "exp_rep = 5  \n",
    "epochs = 30  \n",
    "batch_size = 32  \n",
    "verbose = 0"
   ]
  },
  {
   "cell_type": "code",
   "execution_count": 15,
   "metadata": {},
   "outputs": [
    {
     "name": "stdout",
     "output_type": "stream",
     "text": [
      "Model: \"sequential_10\"\n",
      "_________________________________________________________________\n",
      "Layer (type)                 Output Shape              Param #   \n",
      "=================================================================\n",
      "lstm_10 (LSTM)               (None, 8)                 544       \n",
      "_________________________________________________________________\n",
      "activation_20 (Activation)   (None, 8)                 0         \n",
      "_________________________________________________________________\n",
      "flatten_10 (Flatten)         (None, 8)                 0         \n",
      "_________________________________________________________________\n",
      "dense_20 (Dense)             (None, 8)                 72        \n",
      "_________________________________________________________________\n",
      "activation_21 (Activation)   (None, 8)                 0         \n",
      "_________________________________________________________________\n",
      "dense_21 (Dense)             (None, 4)                 36        \n",
      "=================================================================\n",
      "Total params: 652\n",
      "Trainable params: 652\n",
      "Non-trainable params: 0\n",
      "_________________________________________________________________\n",
      "None\n",
      "2/2 [==============================] - 0s 2ms/step - loss: 0.8303 - mae: 0.7388\n",
      "Score:  0.7388222217559814\n",
      "2/2 [==============================] - 0s 2ms/step - loss: 0.8704 - mae: 0.7314\n",
      "Score:  0.731431782245636\n",
      "2/2 [==============================] - 0s 2ms/step - loss: 0.7186 - mae: 0.6986\n",
      "Score:  0.698603630065918\n",
      "2/2 [==============================] - 0s 2ms/step - loss: 0.8100 - mae: 0.7188\n",
      "Score:  0.7188104391098022\n",
      "2/2 [==============================] - 0s 2ms/step - loss: 0.9675 - mae: 0.7855\n",
      "Score:  0.7854596972465515\n",
      "Final score: 0.73463 +/- 0.02884\n"
     ]
    }
   ],
   "source": [
    "scores = []\n",
    "for i in range(exp_rep):\n",
    "\n",
    "    # Train test split\n",
    "    tr_choice = np.random.choice(X.shape[0], int(X.shape[0]*tr_split), replace=False)\n",
    "    te_choice = np.array(list(set(range(X.shape[0])) - set(tr_choice)))\n",
    "    assert(len(set(tr_choice)) + len(set(te_choice)) == X.shape[0])\n",
    "    \n",
    "    X_tr, Y_tr = X[tr_choice], Y[tr_choice]\n",
    "    X_te, Y_te = X[te_choice], Y[te_choice]    \n",
    "    \n",
    "    mdl = get_model(**mdl_params)\n",
    "    mdl_params['verbose'] = 0\n",
    "    mdl.fit(X_tr, Y_tr, epochs=epochs, batch_size=batch_size, validation_split=va_split, verbose=verbose)\n",
    "    scores.append(mdl.evaluate(X_te, Y_te)[-1])\n",
    "    print('Score: ', scores[-1])\n",
    "    \n",
    "print(f'Final score: {round(np.mean(scores), 5)} +/- {round(np.std(scores), 5)}')"
   ]
  },
  {
   "cell_type": "markdown",
   "metadata": {},
   "source": [
    "# Activity Recognition"
   ]
  },
  {
   "cell_type": "code",
   "execution_count": 16,
   "metadata": {},
   "outputs": [
    {
     "data": {
      "text/plain": [
       "((34199, 24, 3, 3), (34199, 5))"
      ]
     },
     "execution_count": 16,
     "metadata": {},
     "output_type": "execute_result"
    }
   ],
   "source": [
    "X, Y = pd.read_pickle('ML Data/activity_recognition.pkl')\n",
    "X.shape, Y.shape"
   ]
  },
  {
   "cell_type": "code",
   "execution_count": 17,
   "metadata": {},
   "outputs": [
    {
     "data": {
      "text/plain": [
       "((34199, 24, 9), (34199, 5))"
      ]
     },
     "execution_count": 17,
     "metadata": {},
     "output_type": "execute_result"
    }
   ],
   "source": [
    "X = X.reshape(-1, X.shape[1], np.prod(X.shape[2:]))\n",
    "X.shape, Y.shape"
   ]
  },
  {
   "cell_type": "code",
   "execution_count": 18,
   "metadata": {},
   "outputs": [],
   "source": [
    "# Model params\n",
    "mdl_params = {\n",
    "    'units': 8,\n",
    "    'input_shape': X.shape[1:],\n",
    "    'output_shape': Y.shape[-1],\n",
    "    'loss': 'categorical_crossentropy',\n",
    "    'metric': 'accuracy',\n",
    "    'verbose': 1,\n",
    "}\n",
    "\n",
    "# Exp params\n",
    "tr_split = 0.80  \n",
    "va_split = 0.1  \n",
    "exp_rep = 5  \n",
    "epochs = 30  \n",
    "batch_size = 32  \n",
    "verbose = 0"
   ]
  },
  {
   "cell_type": "code",
   "execution_count": 19,
   "metadata": {},
   "outputs": [
    {
     "name": "stdout",
     "output_type": "stream",
     "text": [
      "Model: \"sequential_15\"\n",
      "_________________________________________________________________\n",
      "Layer (type)                 Output Shape              Param #   \n",
      "=================================================================\n",
      "lstm_15 (LSTM)               (None, 8)                 576       \n",
      "_________________________________________________________________\n",
      "activation_30 (Activation)   (None, 8)                 0         \n",
      "_________________________________________________________________\n",
      "flatten_15 (Flatten)         (None, 8)                 0         \n",
      "_________________________________________________________________\n",
      "dense_30 (Dense)             (None, 8)                 72        \n",
      "_________________________________________________________________\n",
      "activation_31 (Activation)   (None, 8)                 0         \n",
      "_________________________________________________________________\n",
      "dense_31 (Dense)             (None, 5)                 45        \n",
      "_________________________________________________________________\n",
      "activation_32 (Activation)   (None, 5)                 0         \n",
      "=================================================================\n",
      "Total params: 693\n",
      "Trainable params: 693\n",
      "Non-trainable params: 0\n",
      "_________________________________________________________________\n",
      "None\n",
      "214/214 [==============================] - 0s 1ms/step - loss: 0.4378 - accuracy: 0.8069\n",
      "Score:  0.8068713545799255\n",
      "214/214 [==============================] - 0s 1ms/step - loss: 0.4120 - accuracy: 0.8178\n",
      "Score:  0.8178362846374512\n",
      "214/214 [==============================] - 0s 1ms/step - loss: 0.4325 - accuracy: 0.8076\n",
      "Score:  0.8076023459434509\n",
      "214/214 [==============================] - 0s 1ms/step - loss: 0.5993 - accuracy: 0.7101\n",
      "Score:  0.7100877165794373\n",
      "214/214 [==============================] - 0s 1ms/step - loss: 0.4774 - accuracy: 0.7890\n",
      "Score:  0.7890350818634033\n",
      "Final score: 0.78629 +/- 0.03921\n"
     ]
    }
   ],
   "source": [
    "scores = []\n",
    "for i in range(exp_rep):\n",
    "\n",
    "    # Train test split\n",
    "    tr_choice = np.random.choice(X.shape[0], int(X.shape[0]*tr_split), replace=False)\n",
    "    te_choice = np.array(list(set(range(X.shape[0])) - set(tr_choice)))\n",
    "    assert(len(set(tr_choice)) + len(set(te_choice)) == X.shape[0])\n",
    "    \n",
    "    X_tr, Y_tr = X[tr_choice], Y[tr_choice]\n",
    "    X_te, Y_te = X[te_choice], Y[te_choice]    \n",
    "    \n",
    "    mdl = get_model(**mdl_params)\n",
    "    mdl_params['verbose'] = 0\n",
    "    mdl.fit(X_tr, Y_tr, epochs=epochs, batch_size=batch_size, validation_split=va_split, verbose=verbose)\n",
    "    scores.append(mdl.evaluate(X_te, Y_te)[-1])\n",
    "    print('Score: ', scores[-1])\n",
    "    \n",
    "print(f'Final score: {round(np.mean(scores), 5)} +/- {round(np.std(scores), 5)}')"
   ]
  },
  {
   "cell_type": "code",
   "execution_count": null,
   "metadata": {},
   "outputs": [],
   "source": []
  }
 ],
 "metadata": {
  "kernelspec": {
   "display_name": "Python 3",
   "language": "python",
   "name": "python3"
  },
  "language_info": {
   "codemirror_mode": {
    "name": "ipython",
    "version": 3
   },
   "file_extension": ".py",
   "mimetype": "text/x-python",
   "name": "python",
   "nbconvert_exporter": "python",
   "pygments_lexer": "ipython3",
   "version": "3.7.9"
  }
 },
 "nbformat": 4,
 "nbformat_minor": 4
}
