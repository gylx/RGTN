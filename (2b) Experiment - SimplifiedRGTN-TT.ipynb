{
 "cells": [
  {
   "cell_type": "code",
   "execution_count": 1,
   "metadata": {},
   "outputs": [],
   "source": [
    "import tensorflow as tf\n",
    "import pandas as pd\n",
    "import numpy as np\n",
    "\n",
    "from rgtn import SpecialRGTN, GeneralRGTN, TensorTrainLayer"
   ]
  },
  {
   "cell_type": "code",
   "execution_count": 2,
   "metadata": {},
   "outputs": [],
   "source": [
    "np.random.seed(0)\n",
    "tf.random.set_seed(0)"
   ]
  },
  {
   "cell_type": "markdown",
   "metadata": {},
   "source": [
    "# Model"
   ]
  },
  {
   "cell_type": "code",
   "execution_count": 3,
   "metadata": {},
   "outputs": [],
   "source": [
    "def get_model(\n",
    "    units, \n",
    "    input_shape, \n",
    "    output_shape, \n",
    "    loss, \n",
    "    metric, \n",
    "    tt_ips, \n",
    "    tt_ops, \n",
    "    tt_ranks, \n",
    "    act='tanh', \n",
    "    opt='adam', \n",
    "    verbose=True\n",
    "):\n",
    "\n",
    "    mdl = tf.keras.models.Sequential()\n",
    "\n",
    "    mdl.add(tf.keras.layers.Input(input_shape))\n",
    "\n",
    "    # Features layer\n",
    "    mdl.add(SpecialRGTN(units))\n",
    "    mdl.add(tf.keras.layers.Activation(act))\n",
    "\n",
    "    # TT layer\n",
    "    mdl.add(TensorTrainLayer(tt_ips, tt_ops, tt_ranks))\n",
    "    mdl.add(tf.keras.layers.Activation(act))\n",
    "\n",
    "    # Output layer\n",
    "    mdl.add(tf.keras.layers.Flatten())\n",
    "    mdl.add(tf.keras.layers.Dense(output_shape))\n",
    "    \n",
    "    if metric=='accuracy':\n",
    "        mdl.add(tf.keras.layers.Activation('softmax'))\n",
    "\n",
    "    mdl.compile(loss=loss,  optimizer=opt, metrics=[metric])\n",
    "    \n",
    "    if verbose:\n",
    "        print(mdl.summary())\n",
    "    \n",
    "    return mdl"
   ]
  },
  {
   "cell_type": "markdown",
   "metadata": {},
   "source": [
    "# Air Quality"
   ]
  },
  {
   "cell_type": "code",
   "execution_count": 4,
   "metadata": {},
   "outputs": [
    {
     "data": {
      "text/plain": [
       "((17529, 6, 12, 27), (17529, 12))"
      ]
     },
     "execution_count": 4,
     "metadata": {},
     "output_type": "execute_result"
    }
   ],
   "source": [
    "X, Y = pd.read_pickle('ML Data/air_quality.pkl')\n",
    "X.shape, Y.shape"
   ]
  },
  {
   "cell_type": "code",
   "execution_count": 5,
   "metadata": {},
   "outputs": [],
   "source": [
    "# X = X.reshape(-1, X.shape[1], np.prod(X.shape[2:]))\n",
    "# X.shape, Y.shape"
   ]
  },
  {
   "cell_type": "code",
   "execution_count": 6,
   "metadata": {},
   "outputs": [],
   "source": [
    "# Model params\n",
    "mdl_params = {\n",
    "    'units': 8,\n",
    "    'input_shape': X.shape[1:],\n",
    "    'output_shape': Y.shape[-1],\n",
    "    'loss': 'mse',\n",
    "    'metric': 'mae',\n",
    "    'tt_ips': [X.shape[1], X.shape[2], 8],\n",
    "    'tt_ops': [2, 2, 2],\n",
    "    'tt_ranks': [1, 2, 2, 1],\n",
    "    'verbose': 1,\n",
    "}\n",
    "\n",
    "# Exp params\n",
    "tr_split = 0.80  \n",
    "va_split = 0.1  \n",
    "exp_rep = 5  \n",
    "epochs = 30  \n",
    "batch_size = 32  \n",
    "verbose = 0"
   ]
  },
  {
   "cell_type": "code",
   "execution_count": 7,
   "metadata": {},
   "outputs": [
    {
     "name": "stdout",
     "output_type": "stream",
     "text": [
      "Model: \"sequential\"\n",
      "_________________________________________________________________\n",
      "Layer (type)                 Output Shape              Param #   \n",
      "=================================================================\n",
      "special_rgtn (SpecialRGTN)   (None, 6, 12, 8)          268       \n",
      "_________________________________________________________________\n",
      "activation (Activation)      (None, 6, 12, 8)          0         \n",
      "_________________________________________________________________\n",
      "tensor_train_layer (TensorTr (None, 2, 2, 2)           152       \n",
      "_________________________________________________________________\n",
      "activation_1 (Activation)    (None, 2, 2, 2)           0         \n",
      "_________________________________________________________________\n",
      "flatten (Flatten)            (None, 8)                 0         \n",
      "_________________________________________________________________\n",
      "dense (Dense)                (None, 12)                108       \n",
      "=================================================================\n",
      "Total params: 528\n",
      "Trainable params: 492\n",
      "Non-trainable params: 36\n",
      "_________________________________________________________________\n",
      "None\n",
      "110/110 [==============================] - 0s 788us/step - loss: 8.4655e-04 - mae: 0.0174\n",
      "Score:  0.01735275238752365\n",
      "110/110 [==============================] - 0s 843us/step - loss: 9.2923e-04 - mae: 0.0174\n",
      "Score:  0.017412105575203896\n",
      "110/110 [==============================] - 0s 820us/step - loss: 8.2385e-04 - mae: 0.0173\n",
      "Score:  0.01731077954173088\n",
      "110/110 [==============================] - 0s 915us/step - loss: 8.4154e-04 - mae: 0.0172\n",
      "Score:  0.017223728820681572\n",
      "110/110 [==============================] - 0s 838us/step - loss: 9.1592e-04 - mae: 0.0178\n",
      "Score:  0.017802903428673744\n",
      "Final score: 0.01742 +/- 0.0002\n"
     ]
    }
   ],
   "source": [
    "scores = []\n",
    "for i in range(exp_rep):\n",
    "\n",
    "    # Train test split\n",
    "    tr_choice = np.random.choice(X.shape[0], int(X.shape[0]*tr_split), replace=False)\n",
    "    te_choice = np.array(list(set(range(X.shape[0])) - set(tr_choice)))\n",
    "    assert(len(set(tr_choice)) + len(set(te_choice)) == X.shape[0])\n",
    "    \n",
    "    X_tr, Y_tr = X[tr_choice], Y[tr_choice]\n",
    "    X_te, Y_te = X[te_choice], Y[te_choice]    \n",
    "    \n",
    "    mdl = get_model(**mdl_params)\n",
    "    mdl_params['verbose'] = 0\n",
    "    mdl.fit(X_tr, Y_tr, epochs=epochs, batch_size=batch_size, validation_split=va_split, verbose=verbose)\n",
    "    scores.append(mdl.evaluate(X_te, Y_te)[-1])\n",
    "    print('Score: ', scores[-1])\n",
    "    \n",
    "print(f'Final score: {round(np.mean(scores), 5)} +/- {round(np.std(scores), 5)}')"
   ]
  },
  {
   "cell_type": "markdown",
   "metadata": {},
   "source": [
    "# Climate Change"
   ]
  },
  {
   "cell_type": "code",
   "execution_count": 8,
   "metadata": {},
   "outputs": [
    {
     "data": {
      "text/plain": [
       "((2607, 6, 14, 4), (2607, 14))"
      ]
     },
     "execution_count": 8,
     "metadata": {},
     "output_type": "execute_result"
    }
   ],
   "source": [
    "X, Y = pd.read_pickle('ML Data/climate_change.pkl')\n",
    "X.shape, Y.shape"
   ]
  },
  {
   "cell_type": "code",
   "execution_count": 9,
   "metadata": {},
   "outputs": [],
   "source": [
    "# X = X.reshape(-1, X.shape[1], np.prod(X.shape[2:]))\n",
    "# X.shape, Y.shape"
   ]
  },
  {
   "cell_type": "code",
   "execution_count": 10,
   "metadata": {},
   "outputs": [],
   "source": [
    "# Model params\n",
    "mdl_params = {\n",
    "    'units': 8,\n",
    "    'input_shape': X.shape[1:],\n",
    "    'output_shape': Y.shape[-1],\n",
    "    'loss': 'mse',\n",
    "    'metric': 'mae',\n",
    "    'tt_ips': [X.shape[1], X.shape[2], 8],\n",
    "    'tt_ops': [2, 2, 2],\n",
    "    'tt_ranks': [1, 2, 2, 1],\n",
    "    'verbose': 1,\n",
    "}\n",
    "\n",
    "# Exp params\n",
    "tr_split = 0.80  \n",
    "va_split = 0.1  \n",
    "exp_rep = 5  \n",
    "epochs = 30  \n",
    "batch_size = 32  \n",
    "verbose = 0"
   ]
  },
  {
   "cell_type": "code",
   "execution_count": 11,
   "metadata": {},
   "outputs": [
    {
     "name": "stdout",
     "output_type": "stream",
     "text": [
      "Model: \"sequential_5\"\n",
      "_________________________________________________________________\n",
      "Layer (type)                 Output Shape              Param #   \n",
      "=================================================================\n",
      "special_rgtn_5 (SpecialRGTN) (None, 6, 14, 8)          84        \n",
      "_________________________________________________________________\n",
      "activation_10 (Activation)   (None, 6, 14, 8)          0         \n",
      "_________________________________________________________________\n",
      "tensor_train_layer_5 (Tensor (None, 2, 2, 2)           168       \n",
      "_________________________________________________________________\n",
      "activation_11 (Activation)   (None, 2, 2, 2)           0         \n",
      "_________________________________________________________________\n",
      "flatten_5 (Flatten)          (None, 8)                 0         \n",
      "_________________________________________________________________\n",
      "dense_5 (Dense)              (None, 14)                126       \n",
      "=================================================================\n",
      "Total params: 378\n",
      "Trainable params: 342\n",
      "Non-trainable params: 36\n",
      "_________________________________________________________________\n",
      "None\n",
      "17/17 [==============================] - 0s 1ms/step - loss: 0.1891 - mae: 0.2798\n",
      "Score:  0.2798019051551819\n",
      "17/17 [==============================] - 0s 1ms/step - loss: 0.1884 - mae: 0.2863\n",
      "Score:  0.2862630784511566\n",
      "17/17 [==============================] - 0s 1ms/step - loss: 0.1504 - mae: 0.2692\n",
      "Score:  0.2691728472709656\n",
      "17/17 [==============================] - 0s 1ms/step - loss: 0.1616 - mae: 0.2714\n",
      "Score:  0.2713576555252075\n",
      "17/17 [==============================] - 0s 1ms/step - loss: 0.1630 - mae: 0.2680\n",
      "Score:  0.267972856760025\n",
      "Final score: 0.27491 +/- 0.00702\n"
     ]
    }
   ],
   "source": [
    "scores = []\n",
    "for i in range(exp_rep):\n",
    "\n",
    "    # Train test split\n",
    "    tr_choice = np.random.choice(X.shape[0], int(X.shape[0]*tr_split), replace=False)\n",
    "    te_choice = np.array(list(set(range(X.shape[0])) - set(tr_choice)))\n",
    "    assert(len(set(tr_choice)) + len(set(te_choice)) == X.shape[0])\n",
    "    \n",
    "    X_tr, Y_tr = X[tr_choice], Y[tr_choice]\n",
    "    X_te, Y_te = X[te_choice], Y[te_choice]    \n",
    "    \n",
    "    mdl = get_model(**mdl_params)\n",
    "    mdl_params['verbose'] = 0\n",
    "    mdl.fit(X_tr, Y_tr, epochs=epochs, batch_size=batch_size, validation_split=va_split, verbose=verbose)\n",
    "    scores.append(mdl.evaluate(X_te, Y_te)[-1])\n",
    "    print('Score: ', scores[-1])\n",
    "    \n",
    "print(f'Final score: {round(np.mean(scores), 5)} +/- {round(np.std(scores), 5)}')"
   ]
  },
  {
   "cell_type": "markdown",
   "metadata": {},
   "source": [
    "# House Price"
   ]
  },
  {
   "cell_type": "code",
   "execution_count": 12,
   "metadata": {},
   "outputs": [
    {
     "data": {
      "text/plain": [
       "((304, 6, 4, 2), (304, 4))"
      ]
     },
     "execution_count": 12,
     "metadata": {},
     "output_type": "execute_result"
    }
   ],
   "source": [
    "X, Y = pd.read_pickle('ML Data/house_price.pkl')\n",
    "X.shape, Y.shape"
   ]
  },
  {
   "cell_type": "code",
   "execution_count": 13,
   "metadata": {},
   "outputs": [],
   "source": [
    "# X = X.reshape(-1, X.shape[1], np.prod(X.shape[2:]))\n",
    "# X.shape, Y.shape"
   ]
  },
  {
   "cell_type": "code",
   "execution_count": 14,
   "metadata": {},
   "outputs": [],
   "source": [
    "# Model params\n",
    "mdl_params = {\n",
    "    'units': 8,\n",
    "    'input_shape': X.shape[1:],\n",
    "    'output_shape': Y.shape[-1],\n",
    "    'loss': 'mse',\n",
    "    'metric': 'mae',\n",
    "    'tt_ips': [X.shape[1], X.shape[2], 8],\n",
    "    'tt_ops': [2, 2, 2],\n",
    "    'tt_ranks': [1, 2, 2, 1],\n",
    "    'verbose': 1,\n",
    "}\n",
    "\n",
    "# Exp params\n",
    "tr_split = 0.80  \n",
    "va_split = 0.1  \n",
    "exp_rep = 5  \n",
    "epochs = 30  \n",
    "batch_size = 32  \n",
    "verbose = 0"
   ]
  },
  {
   "cell_type": "code",
   "execution_count": 15,
   "metadata": {},
   "outputs": [
    {
     "name": "stdout",
     "output_type": "stream",
     "text": [
      "Model: \"sequential_10\"\n",
      "_________________________________________________________________\n",
      "Layer (type)                 Output Shape              Param #   \n",
      "=================================================================\n",
      "special_rgtn_10 (SpecialRGTN (None, 6, 4, 8)           68        \n",
      "_________________________________________________________________\n",
      "activation_20 (Activation)   (None, 6, 4, 8)           0         \n",
      "_________________________________________________________________\n",
      "tensor_train_layer_10 (Tenso (None, 2, 2, 2)           88        \n",
      "_________________________________________________________________\n",
      "activation_21 (Activation)   (None, 2, 2, 2)           0         \n",
      "_________________________________________________________________\n",
      "flatten_10 (Flatten)         (None, 8)                 0         \n",
      "_________________________________________________________________\n",
      "dense_10 (Dense)             (None, 4)                 36        \n",
      "=================================================================\n",
      "Total params: 192\n",
      "Trainable params: 156\n",
      "Non-trainable params: 36\n",
      "_________________________________________________________________\n",
      "None\n",
      "2/2 [==============================] - 0s 2ms/step - loss: 0.9416 - mae: 0.7881\n",
      "Score:  0.788135290145874\n",
      "2/2 [==============================] - 0s 2ms/step - loss: 0.9423 - mae: 0.7410\n",
      "Score:  0.7410051822662354\n",
      "2/2 [==============================] - 0s 2ms/step - loss: 0.8376 - mae: 0.7647\n",
      "Score:  0.764697790145874\n",
      "2/2 [==============================] - 0s 2ms/step - loss: 0.8145 - mae: 0.7228\n",
      "Score:  0.7228261232376099\n",
      "2/2 [==============================] - 0s 2ms/step - loss: 1.0885 - mae: 0.8217\n",
      "Score:  0.8217369318008423\n",
      "Final score: 0.76768 +/- 0.03485\n"
     ]
    }
   ],
   "source": [
    "scores = []\n",
    "for i in range(exp_rep):\n",
    "\n",
    "    # Train test split\n",
    "    tr_choice = np.random.choice(X.shape[0], int(X.shape[0]*tr_split), replace=False)\n",
    "    te_choice = np.array(list(set(range(X.shape[0])) - set(tr_choice)))\n",
    "    assert(len(set(tr_choice)) + len(set(te_choice)) == X.shape[0])\n",
    "    \n",
    "    X_tr, Y_tr = X[tr_choice], Y[tr_choice]\n",
    "    X_te, Y_te = X[te_choice], Y[te_choice]    \n",
    "    \n",
    "    mdl = get_model(**mdl_params)\n",
    "    mdl_params['verbose'] = 0\n",
    "    mdl.fit(X_tr, Y_tr, epochs=epochs, batch_size=batch_size, validation_split=va_split, verbose=verbose)\n",
    "    scores.append(mdl.evaluate(X_te, Y_te)[-1])\n",
    "    print('Score: ', scores[-1])\n",
    "    \n",
    "print(f'Final score: {round(np.mean(scores), 5)} +/- {round(np.std(scores), 5)}')"
   ]
  },
  {
   "cell_type": "markdown",
   "metadata": {},
   "source": [
    "# Activity Recognition"
   ]
  },
  {
   "cell_type": "code",
   "execution_count": 16,
   "metadata": {},
   "outputs": [
    {
     "data": {
      "text/plain": [
       "((34199, 24, 3, 3), (34199, 5))"
      ]
     },
     "execution_count": 16,
     "metadata": {},
     "output_type": "execute_result"
    }
   ],
   "source": [
    "X, Y = pd.read_pickle('ML Data/activity_recognition.pkl')\n",
    "X.shape, Y.shape"
   ]
  },
  {
   "cell_type": "code",
   "execution_count": 17,
   "metadata": {},
   "outputs": [],
   "source": [
    "# X = X.reshape(-1, X.shape[1], np.prod(X.shape[2:]))\n",
    "# X.shape, Y.shape"
   ]
  },
  {
   "cell_type": "code",
   "execution_count": 18,
   "metadata": {},
   "outputs": [],
   "source": [
    "# Model params\n",
    "mdl_params = {\n",
    "    'units': 8,\n",
    "    'input_shape': X.shape[1:],\n",
    "    'output_shape': Y.shape[-1],\n",
    "    'loss': 'categorical_crossentropy',\n",
    "    'metric': 'accuracy',\n",
    "    'tt_ips': [X.shape[1], X.shape[2], 8],\n",
    "    'tt_ops': [2, 2, 2],\n",
    "    'tt_ranks': [1, 2, 2, 1],\n",
    "    'verbose': 1,\n",
    "}\n",
    "\n",
    "# Exp params\n",
    "tr_split = 0.80  \n",
    "va_split = 0.1  \n",
    "exp_rep = 5  \n",
    "epochs = 30  \n",
    "batch_size = 32  \n",
    "verbose = 0"
   ]
  },
  {
   "cell_type": "code",
   "execution_count": 19,
   "metadata": {},
   "outputs": [
    {
     "name": "stdout",
     "output_type": "stream",
     "text": [
      "Model: \"sequential_15\"\n",
      "_________________________________________________________________\n",
      "Layer (type)                 Output Shape              Param #   \n",
      "=================================================================\n",
      "special_rgtn_15 (SpecialRGTN (None, 24, 3, 8)          616       \n",
      "_________________________________________________________________\n",
      "activation_30 (Activation)   (None, 24, 3, 8)          0         \n",
      "_________________________________________________________________\n",
      "tensor_train_layer_15 (Tenso (None, 2, 2, 2)           152       \n",
      "_________________________________________________________________\n",
      "activation_31 (Activation)   (None, 2, 2, 2)           0         \n",
      "_________________________________________________________________\n",
      "flatten_15 (Flatten)         (None, 8)                 0         \n",
      "_________________________________________________________________\n",
      "dense_15 (Dense)             (None, 5)                 45        \n",
      "_________________________________________________________________\n",
      "activation_32 (Activation)   (None, 5)                 0         \n",
      "=================================================================\n",
      "Total params: 813\n",
      "Trainable params: 237\n",
      "Non-trainable params: 576\n",
      "_________________________________________________________________\n",
      "None\n",
      "214/214 [==============================] - 0s 838us/step - loss: 0.4358 - accuracy: 0.8089\n",
      "Score:  0.8089181184768677\n",
      "214/214 [==============================] - 0s 905us/step - loss: 0.5273 - accuracy: 0.7484\n",
      "Score:  0.7483918070793152\n",
      "214/214 [==============================] - 0s 871us/step - loss: 0.5056 - accuracy: 0.7561\n",
      "Score:  0.7561403512954712\n",
      "214/214 [==============================] - 0s 919us/step - loss: 0.3771 - accuracy: 0.8142\n",
      "Score:  0.8141812682151794\n",
      "214/214 [==============================] - 0s 868us/step - loss: 0.4381 - accuracy: 0.8094\n",
      "Score:  0.8093567490577698\n",
      "Final score: 0.7874 +/- 0.02885\n"
     ]
    }
   ],
   "source": [
    "scores = []\n",
    "for i in range(exp_rep):\n",
    "\n",
    "    # Train test split\n",
    "    tr_choice = np.random.choice(X.shape[0], int(X.shape[0]*tr_split), replace=False)\n",
    "    te_choice = np.array(list(set(range(X.shape[0])) - set(tr_choice)))\n",
    "    assert(len(set(tr_choice)) + len(set(te_choice)) == X.shape[0])\n",
    "    \n",
    "    X_tr, Y_tr = X[tr_choice], Y[tr_choice]\n",
    "    X_te, Y_te = X[te_choice], Y[te_choice]    \n",
    "    \n",
    "    mdl = get_model(**mdl_params)\n",
    "    mdl_params['verbose'] = 0\n",
    "    mdl.fit(X_tr, Y_tr, epochs=epochs, batch_size=batch_size, validation_split=va_split, verbose=verbose)\n",
    "    scores.append(mdl.evaluate(X_te, Y_te)[-1])\n",
    "    print('Score: ', scores[-1])\n",
    "    \n",
    "print(f'Final score: {round(np.mean(scores), 5)} +/- {round(np.std(scores), 5)}')"
   ]
  },
  {
   "cell_type": "code",
   "execution_count": null,
   "metadata": {},
   "outputs": [],
   "source": []
  }
 ],
 "metadata": {
  "kernelspec": {
   "display_name": "Python 3",
   "language": "python",
   "name": "python3"
  },
  "language_info": {
   "codemirror_mode": {
    "name": "ipython",
    "version": 3
   },
   "file_extension": ".py",
   "mimetype": "text/x-python",
   "name": "python",
   "nbconvert_exporter": "python",
   "pygments_lexer": "ipython3",
   "version": "3.7.9"
  }
 },
 "nbformat": 4,
 "nbformat_minor": 4
}
