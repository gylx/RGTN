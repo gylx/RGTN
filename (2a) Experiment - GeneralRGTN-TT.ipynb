{
 "cells": [
  {
   "cell_type": "code",
   "execution_count": 1,
   "metadata": {},
   "outputs": [],
   "source": [
    "import tensorflow as tf\n",
    "import pandas as pd\n",
    "import numpy as np\n",
    "\n",
    "from rgtn import SpecialRGTN, GeneralRGTN, TensorTrainLayer"
   ]
  },
  {
   "cell_type": "code",
   "execution_count": 2,
   "metadata": {},
   "outputs": [],
   "source": [
    "np.random.seed(0)\n",
    "tf.random.set_seed(0)"
   ]
  },
  {
   "cell_type": "markdown",
   "metadata": {},
   "source": [
    "# Model"
   ]
  },
  {
   "cell_type": "code",
   "execution_count": 3,
   "metadata": {},
   "outputs": [],
   "source": [
    "def get_model(\n",
    "    units, \n",
    "    input_shape, \n",
    "    output_shape, \n",
    "    loss, \n",
    "    metric, \n",
    "    tt_ips, \n",
    "    tt_ops, \n",
    "    tt_ranks, \n",
    "    act='tanh', \n",
    "    opt='adam', \n",
    "    verbose=True\n",
    "):\n",
    "\n",
    "    mdl = tf.keras.models.Sequential()\n",
    "\n",
    "    mdl.add(tf.keras.layers.Input(input_shape))\n",
    "\n",
    "    # Features layer\n",
    "    mdl.add(GeneralRGTN(units))\n",
    "    mdl.add(tf.keras.layers.Activation(act))\n",
    "\n",
    "    # TT layer\n",
    "    mdl.add(TensorTrainLayer(tt_ips, tt_ops, tt_ranks))\n",
    "    mdl.add(tf.keras.layers.Activation(act))\n",
    "\n",
    "    # Output layer\n",
    "    mdl.add(tf.keras.layers.Flatten())\n",
    "    mdl.add(tf.keras.layers.Dense(output_shape))\n",
    "    \n",
    "    if metric=='accuracy':\n",
    "        mdl.add(tf.keras.layers.Activation('softmax'))\n",
    "\n",
    "    mdl.compile(loss=loss,  optimizer=opt, metrics=[metric])\n",
    "    \n",
    "    if verbose:\n",
    "        print(mdl.summary())\n",
    "    \n",
    "    return mdl"
   ]
  },
  {
   "cell_type": "markdown",
   "metadata": {},
   "source": [
    "# Air Quality"
   ]
  },
  {
   "cell_type": "code",
   "execution_count": 4,
   "metadata": {},
   "outputs": [
    {
     "data": {
      "text/plain": [
       "((17529, 6, 12, 27), (17529, 12))"
      ]
     },
     "execution_count": 4,
     "metadata": {},
     "output_type": "execute_result"
    }
   ],
   "source": [
    "X, Y = pd.read_pickle('ML Data/air_quality.pkl')\n",
    "X.shape, Y.shape"
   ]
  },
  {
   "cell_type": "code",
   "execution_count": 5,
   "metadata": {},
   "outputs": [],
   "source": [
    "# X = X.reshape(-1, X.shape[1], np.prod(X.shape[2:]))\n",
    "# X.shape, Y.shape"
   ]
  },
  {
   "cell_type": "code",
   "execution_count": 6,
   "metadata": {},
   "outputs": [],
   "source": [
    "# Model params\n",
    "mdl_params = {\n",
    "    'units': 8,\n",
    "    'input_shape': X.shape[1:],\n",
    "    'output_shape': Y.shape[-1],\n",
    "    'loss': 'mse',\n",
    "    'metric': 'mae',\n",
    "    'tt_ips': [X.shape[1], X.shape[2], 8],\n",
    "    'tt_ops': [2, 2, 2],\n",
    "    'tt_ranks': [1, 2, 2, 1],\n",
    "    'verbose': 1,\n",
    "}\n",
    "\n",
    "# Exp params\n",
    "tr_split = 0.80  \n",
    "va_split = 0.1  \n",
    "exp_rep = 5  \n",
    "epochs = 30  \n",
    "batch_size = 32  \n",
    "verbose = 0"
   ]
  },
  {
   "cell_type": "code",
   "execution_count": 7,
   "metadata": {},
   "outputs": [
    {
     "name": "stdout",
     "output_type": "stream",
     "text": [
      "Model: \"sequential\"\n",
      "_________________________________________________________________\n",
      "Layer (type)                 Output Shape              Param #   \n",
      "=================================================================\n",
      "general_rgtn (GeneralRGTN)   (None, 6, 12, 8)          332       \n",
      "_________________________________________________________________\n",
      "activation (Activation)      (None, 6, 12, 8)          0         \n",
      "_________________________________________________________________\n",
      "tensor_train_layer (TensorTr (None, 2, 2, 2)           152       \n",
      "_________________________________________________________________\n",
      "activation_1 (Activation)    (None, 2, 2, 2)           0         \n",
      "_________________________________________________________________\n",
      "flatten (Flatten)            (None, 8)                 0         \n",
      "_________________________________________________________________\n",
      "dense (Dense)                (None, 12)                108       \n",
      "=================================================================\n",
      "Total params: 592\n",
      "Trainable params: 556\n",
      "Non-trainable params: 36\n",
      "_________________________________________________________________\n",
      "None\n",
      "110/110 [==============================] - 0s 948us/step - loss: 7.5770e-04 - mae: 0.0163\n",
      "Score:  0.0163445845246315\n",
      "110/110 [==============================] - 0s 819us/step - loss: 7.2110e-04 - mae: 0.0153\n",
      "Score:  0.015315932221710682\n",
      "110/110 [==============================] - 0s 902us/step - loss: 7.6970e-04 - mae: 0.0169\n",
      "Score:  0.01692580059170723\n",
      "110/110 [==============================] - 0s 896us/step - loss: 6.6472e-04 - mae: 0.0159\n",
      "Score:  0.01594078727066517\n",
      "110/110 [==============================] - 0s 910us/step - loss: 6.8125e-04 - mae: 0.0154\n",
      "Score:  0.015354268252849579\n",
      "Final score: 0.01598 +/- 0.00061\n"
     ]
    }
   ],
   "source": [
    "scores = []\n",
    "for i in range(exp_rep):\n",
    "\n",
    "    # Train test split\n",
    "    tr_choice = np.random.choice(X.shape[0], int(X.shape[0]*tr_split), replace=False)\n",
    "    te_choice = np.array(list(set(range(X.shape[0])) - set(tr_choice)))\n",
    "    assert(len(set(tr_choice)) + len(set(te_choice)) == X.shape[0])\n",
    "    \n",
    "    X_tr, Y_tr = X[tr_choice], Y[tr_choice]\n",
    "    X_te, Y_te = X[te_choice], Y[te_choice]    \n",
    "    \n",
    "    mdl = get_model(**mdl_params)\n",
    "    mdl_params['verbose'] = 0\n",
    "    mdl.fit(X_tr, Y_tr, epochs=epochs, batch_size=batch_size, validation_split=va_split, verbose=verbose)\n",
    "    scores.append(mdl.evaluate(X_te, Y_te)[-1])\n",
    "    print('Score: ', scores[-1])\n",
    "    \n",
    "print(f'Final score: {round(np.mean(scores), 5)} +/- {round(np.std(scores), 5)}')"
   ]
  },
  {
   "cell_type": "markdown",
   "metadata": {},
   "source": [
    "# Climate Change"
   ]
  },
  {
   "cell_type": "code",
   "execution_count": 8,
   "metadata": {},
   "outputs": [
    {
     "data": {
      "text/plain": [
       "((2607, 6, 14, 4), (2607, 14))"
      ]
     },
     "execution_count": 8,
     "metadata": {},
     "output_type": "execute_result"
    }
   ],
   "source": [
    "X, Y = pd.read_pickle('ML Data/climate_change.pkl')\n",
    "X.shape, Y.shape"
   ]
  },
  {
   "cell_type": "code",
   "execution_count": 9,
   "metadata": {},
   "outputs": [],
   "source": [
    "# X = X.reshape(-1, X.shape[1], np.prod(X.shape[2:]))\n",
    "# X.shape, Y.shape"
   ]
  },
  {
   "cell_type": "code",
   "execution_count": 10,
   "metadata": {},
   "outputs": [],
   "source": [
    "# Model params\n",
    "mdl_params = {\n",
    "    'units': 8,\n",
    "    'input_shape': X.shape[1:],\n",
    "    'output_shape': Y.shape[-1],\n",
    "    'loss': 'mse',\n",
    "    'metric': 'mae',\n",
    "    'tt_ips': [X.shape[1], X.shape[2], 8],\n",
    "    'tt_ops': [2, 2, 2],\n",
    "    'tt_ranks': [1, 2, 2, 1],\n",
    "    'verbose': 1,\n",
    "}\n",
    "\n",
    "# Exp params\n",
    "tr_split = 0.80  \n",
    "va_split = 0.1  \n",
    "exp_rep = 5  \n",
    "epochs = 30  \n",
    "batch_size = 32  \n",
    "verbose = 0"
   ]
  },
  {
   "cell_type": "code",
   "execution_count": 11,
   "metadata": {},
   "outputs": [
    {
     "name": "stdout",
     "output_type": "stream",
     "text": [
      "Model: \"sequential_5\"\n",
      "_________________________________________________________________\n",
      "Layer (type)                 Output Shape              Param #   \n",
      "=================================================================\n",
      "general_rgtn_5 (GeneralRGTN) (None, 6, 14, 8)          148       \n",
      "_________________________________________________________________\n",
      "activation_10 (Activation)   (None, 6, 14, 8)          0         \n",
      "_________________________________________________________________\n",
      "tensor_train_layer_5 (Tensor (None, 2, 2, 2)           168       \n",
      "_________________________________________________________________\n",
      "activation_11 (Activation)   (None, 2, 2, 2)           0         \n",
      "_________________________________________________________________\n",
      "flatten_5 (Flatten)          (None, 8)                 0         \n",
      "_________________________________________________________________\n",
      "dense_5 (Dense)              (None, 14)                126       \n",
      "=================================================================\n",
      "Total params: 442\n",
      "Trainable params: 406\n",
      "Non-trainable params: 36\n",
      "_________________________________________________________________\n",
      "None\n",
      "17/17 [==============================] - 0s 1ms/step - loss: 0.0753 - mae: 0.1971\n",
      "Score:  0.19709108769893646\n",
      "17/17 [==============================] - 0s 1ms/step - loss: 0.0889 - mae: 0.2168\n",
      "Score:  0.21680447459220886\n",
      "17/17 [==============================] - 0s 1ms/step - loss: 0.0790 - mae: 0.1990\n",
      "Score:  0.1990024447441101\n",
      "17/17 [==============================] - 0s 1ms/step - loss: 0.0862 - mae: 0.2091\n",
      "Score:  0.20912623405456543\n",
      "17/17 [==============================] - 0s 1ms/step - loss: 0.1116 - mae: 0.2259\n",
      "Score:  0.2259083241224289\n",
      "Final score: 0.20959 +/- 0.01083\n"
     ]
    }
   ],
   "source": [
    "scores = []\n",
    "for i in range(exp_rep):\n",
    "\n",
    "    # Train test split\n",
    "    tr_choice = np.random.choice(X.shape[0], int(X.shape[0]*tr_split), replace=False)\n",
    "    te_choice = np.array(list(set(range(X.shape[0])) - set(tr_choice)))\n",
    "    assert(len(set(tr_choice)) + len(set(te_choice)) == X.shape[0])\n",
    "    \n",
    "    X_tr, Y_tr = X[tr_choice], Y[tr_choice]\n",
    "    X_te, Y_te = X[te_choice], Y[te_choice]    \n",
    "    \n",
    "    mdl = get_model(**mdl_params)\n",
    "    mdl_params['verbose'] = 0\n",
    "    mdl.fit(X_tr, Y_tr, epochs=epochs, batch_size=batch_size, validation_split=va_split, verbose=verbose)\n",
    "    scores.append(mdl.evaluate(X_te, Y_te)[-1])\n",
    "    print('Score: ', scores[-1])\n",
    "    \n",
    "print(f'Final score: {round(np.mean(scores), 5)} +/- {round(np.std(scores), 5)}')"
   ]
  },
  {
   "cell_type": "markdown",
   "metadata": {},
   "source": [
    "# House Price"
   ]
  },
  {
   "cell_type": "code",
   "execution_count": 12,
   "metadata": {},
   "outputs": [
    {
     "data": {
      "text/plain": [
       "((304, 6, 4, 2), (304, 4))"
      ]
     },
     "execution_count": 12,
     "metadata": {},
     "output_type": "execute_result"
    }
   ],
   "source": [
    "X, Y = pd.read_pickle('ML Data/house_price.pkl')\n",
    "X.shape, Y.shape"
   ]
  },
  {
   "cell_type": "code",
   "execution_count": 13,
   "metadata": {},
   "outputs": [],
   "source": [
    "# X = X.reshape(-1, X.shape[1], np.prod(X.shape[2:]))\n",
    "# X.shape, Y.shape"
   ]
  },
  {
   "cell_type": "code",
   "execution_count": 14,
   "metadata": {},
   "outputs": [],
   "source": [
    "# Model params\n",
    "mdl_params = {\n",
    "    'units': 8,\n",
    "    'input_shape': X.shape[1:],\n",
    "    'output_shape': Y.shape[-1],\n",
    "    'loss': 'mse',\n",
    "    'metric': 'mae',\n",
    "    'tt_ips': [X.shape[1], X.shape[2], 8],\n",
    "    'tt_ops': [2, 2, 2],\n",
    "    'tt_ranks': [1, 2, 2, 1],\n",
    "    'verbose': 1,\n",
    "}\n",
    "\n",
    "# Exp params\n",
    "tr_split = 0.80  \n",
    "va_split = 0.1  \n",
    "exp_rep = 5  \n",
    "epochs = 30  \n",
    "batch_size = 32  \n",
    "verbose = 0"
   ]
  },
  {
   "cell_type": "code",
   "execution_count": 15,
   "metadata": {},
   "outputs": [
    {
     "name": "stdout",
     "output_type": "stream",
     "text": [
      "Model: \"sequential_10\"\n",
      "_________________________________________________________________\n",
      "Layer (type)                 Output Shape              Param #   \n",
      "=================================================================\n",
      "general_rgtn_10 (GeneralRGTN (None, 6, 4, 8)           132       \n",
      "_________________________________________________________________\n",
      "activation_20 (Activation)   (None, 6, 4, 8)           0         \n",
      "_________________________________________________________________\n",
      "tensor_train_layer_10 (Tenso (None, 2, 2, 2)           88        \n",
      "_________________________________________________________________\n",
      "activation_21 (Activation)   (None, 2, 2, 2)           0         \n",
      "_________________________________________________________________\n",
      "flatten_10 (Flatten)         (None, 8)                 0         \n",
      "_________________________________________________________________\n",
      "dense_10 (Dense)             (None, 4)                 36        \n",
      "=================================================================\n",
      "Total params: 256\n",
      "Trainable params: 220\n",
      "Non-trainable params: 36\n",
      "_________________________________________________________________\n",
      "None\n",
      "2/2 [==============================] - 0s 2ms/step - loss: 0.8982 - mae: 0.7744\n",
      "Score:  0.7744101285934448\n",
      "2/2 [==============================] - 0s 2ms/step - loss: 0.8905 - mae: 0.7153\n",
      "Score:  0.7152771949768066\n",
      "2/2 [==============================] - 0s 2ms/step - loss: 0.7978 - mae: 0.7052\n",
      "Score:  0.7052255868911743\n",
      "2/2 [==============================] - 0s 2ms/step - loss: 0.7978 - mae: 0.7193\n",
      "Score:  0.7192776799201965\n",
      "2/2 [==============================] - 0s 2ms/step - loss: 0.9831 - mae: 0.7331\n",
      "Score:  0.7330852746963501\n",
      "Final score: 0.72946 +/- 0.02419\n"
     ]
    }
   ],
   "source": [
    "scores = []\n",
    "for i in range(exp_rep):\n",
    "\n",
    "    # Train test split\n",
    "    tr_choice = np.random.choice(X.shape[0], int(X.shape[0]*tr_split), replace=False)\n",
    "    te_choice = np.array(list(set(range(X.shape[0])) - set(tr_choice)))\n",
    "    assert(len(set(tr_choice)) + len(set(te_choice)) == X.shape[0])\n",
    "    \n",
    "    X_tr, Y_tr = X[tr_choice], Y[tr_choice]\n",
    "    X_te, Y_te = X[te_choice], Y[te_choice]    \n",
    "    \n",
    "    mdl = get_model(**mdl_params)\n",
    "    mdl_params['verbose'] = 0\n",
    "    mdl.fit(X_tr, Y_tr, epochs=epochs, batch_size=batch_size, validation_split=va_split, verbose=verbose)\n",
    "    scores.append(mdl.evaluate(X_te, Y_te)[-1])\n",
    "    print('Score: ', scores[-1])\n",
    "    \n",
    "print(f'Final score: {round(np.mean(scores), 5)} +/- {round(np.std(scores), 5)}')"
   ]
  },
  {
   "cell_type": "markdown",
   "metadata": {},
   "source": [
    "# Activity Recognition"
   ]
  },
  {
   "cell_type": "code",
   "execution_count": 16,
   "metadata": {},
   "outputs": [
    {
     "data": {
      "text/plain": [
       "((34199, 24, 3, 3), (34199, 5))"
      ]
     },
     "execution_count": 16,
     "metadata": {},
     "output_type": "execute_result"
    }
   ],
   "source": [
    "X, Y = pd.read_pickle('ML Data/activity_recognition.pkl')\n",
    "X.shape, Y.shape"
   ]
  },
  {
   "cell_type": "code",
   "execution_count": 17,
   "metadata": {},
   "outputs": [],
   "source": [
    "# X = X.reshape(-1, X.shape[1], np.prod(X.shape[2:]))\n",
    "# X.shape, Y.shape"
   ]
  },
  {
   "cell_type": "code",
   "execution_count": 18,
   "metadata": {},
   "outputs": [],
   "source": [
    "# Model params\n",
    "mdl_params = {\n",
    "    'units': 8,\n",
    "    'input_shape': X.shape[1:],\n",
    "    'output_shape': Y.shape[-1],\n",
    "    'loss': 'categorical_crossentropy',\n",
    "    'metric': 'accuracy',\n",
    "    'tt_ips': [X.shape[1], X.shape[2], 8],\n",
    "    'tt_ops': [2, 2, 2],\n",
    "    'tt_ranks': [1, 2, 2, 1],\n",
    "    'verbose': 1,\n",
    "}\n",
    "\n",
    "# Exp params\n",
    "tr_split = 0.80  \n",
    "va_split = 0.1  \n",
    "exp_rep = 5  \n",
    "epochs = 30  \n",
    "batch_size = 32  \n",
    "verbose = 0"
   ]
  },
  {
   "cell_type": "code",
   "execution_count": 19,
   "metadata": {},
   "outputs": [
    {
     "name": "stdout",
     "output_type": "stream",
     "text": [
      "Model: \"sequential_15\"\n",
      "_________________________________________________________________\n",
      "Layer (type)                 Output Shape              Param #   \n",
      "=================================================================\n",
      "general_rgtn_15 (GeneralRGTN (None, 24, 3, 8)          680       \n",
      "_________________________________________________________________\n",
      "activation_30 (Activation)   (None, 24, 3, 8)          0         \n",
      "_________________________________________________________________\n",
      "tensor_train_layer_15 (Tenso (None, 2, 2, 2)           152       \n",
      "_________________________________________________________________\n",
      "activation_31 (Activation)   (None, 2, 2, 2)           0         \n",
      "_________________________________________________________________\n",
      "flatten_15 (Flatten)         (None, 8)                 0         \n",
      "_________________________________________________________________\n",
      "dense_15 (Dense)             (None, 5)                 45        \n",
      "_________________________________________________________________\n",
      "activation_32 (Activation)   (None, 5)                 0         \n",
      "=================================================================\n",
      "Total params: 877\n",
      "Trainable params: 301\n",
      "Non-trainable params: 576\n",
      "_________________________________________________________________\n",
      "None\n",
      "214/214 [==============================] - 0s 888us/step - loss: 0.3786 - accuracy: 0.8308\n",
      "Score:  0.830847978591919\n",
      "214/214 [==============================] - 0s 935us/step - loss: 0.4576 - accuracy: 0.7934\n",
      "Score:  0.7934210300445557\n",
      "214/214 [==============================] - 0s 909us/step - loss: 0.4507 - accuracy: 0.8064\n",
      "Score:  0.8064327239990234\n",
      "214/214 [==============================] - 0s 928us/step - loss: 0.4430 - accuracy: 0.7852\n",
      "Score:  0.7852339148521423\n",
      "214/214 [==============================] - 0s 884us/step - loss: 0.4787 - accuracy: 0.7782\n",
      "Score:  0.7782163619995117\n",
      "Final score: 0.79883 +/- 0.01856\n"
     ]
    }
   ],
   "source": [
    "scores = []\n",
    "for i in range(exp_rep):\n",
    "\n",
    "    # Train test split\n",
    "    tr_choice = np.random.choice(X.shape[0], int(X.shape[0]*tr_split), replace=False)\n",
    "    te_choice = np.array(list(set(range(X.shape[0])) - set(tr_choice)))\n",
    "    assert(len(set(tr_choice)) + len(set(te_choice)) == X.shape[0])\n",
    "    \n",
    "    X_tr, Y_tr = X[tr_choice], Y[tr_choice]\n",
    "    X_te, Y_te = X[te_choice], Y[te_choice]    \n",
    "    \n",
    "    mdl = get_model(**mdl_params)\n",
    "    mdl_params['verbose'] = 0\n",
    "    mdl.fit(X_tr, Y_tr, epochs=epochs, batch_size=batch_size, validation_split=va_split, verbose=verbose)\n",
    "    scores.append(mdl.evaluate(X_te, Y_te)[-1])\n",
    "    print('Score: ', scores[-1])\n",
    "    \n",
    "print(f'Final score: {round(np.mean(scores), 5)} +/- {round(np.std(scores), 5)}')"
   ]
  },
  {
   "cell_type": "code",
   "execution_count": null,
   "metadata": {},
   "outputs": [],
   "source": []
  }
 ],
 "metadata": {
  "kernelspec": {
   "display_name": "Python 3",
   "language": "python",
   "name": "python3"
  },
  "language_info": {
   "codemirror_mode": {
    "name": "ipython",
    "version": 3
   },
   "file_extension": ".py",
   "mimetype": "text/x-python",
   "name": "python",
   "nbconvert_exporter": "python",
   "pygments_lexer": "ipython3",
   "version": "3.7.9"
  }
 },
 "nbformat": 4,
 "nbformat_minor": 4
}
