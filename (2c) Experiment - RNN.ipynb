{
 "cells": [
  {
   "cell_type": "code",
   "execution_count": 1,
   "metadata": {},
   "outputs": [],
   "source": [
    "import tensorflow as tf\n",
    "import pandas as pd\n",
    "import numpy as np\n",
    "\n",
    "from rgtn import SpecialRGTN, GeneralRGTN, TensorTrainLayer"
   ]
  },
  {
   "cell_type": "code",
   "execution_count": 2,
   "metadata": {},
   "outputs": [],
   "source": [
    "np.random.seed(0)\n",
    "tf.random.set_seed(0)"
   ]
  },
  {
   "cell_type": "markdown",
   "metadata": {},
   "source": [
    "# Model"
   ]
  },
  {
   "cell_type": "code",
   "execution_count": 3,
   "metadata": {},
   "outputs": [],
   "source": [
    "def get_model(\n",
    "    units, \n",
    "    input_shape, \n",
    "    output_shape, \n",
    "    loss, \n",
    "    metric, \n",
    "    act='tanh', \n",
    "    opt='adam', \n",
    "    verbose=True\n",
    "):\n",
    "\n",
    "    mdl = tf.keras.models.Sequential()\n",
    "\n",
    "    mdl.add(tf.keras.layers.Input(input_shape))\n",
    "\n",
    "    # Features layer\n",
    "    mdl.add(tf.keras.layers.SimpleRNN(units, return_sequences=False, activation='linear'))\n",
    "    mdl.add(tf.keras.layers.Activation(act))\n",
    "\n",
    "    # Dense layer\n",
    "    mdl.add(tf.keras.layers.Flatten())\n",
    "    mdl.add(tf.keras.layers.Dense(units))\n",
    "    mdl.add(tf.keras.layers.Activation(act))\n",
    "\n",
    "    # Output layer\n",
    "    mdl.add(tf.keras.layers.Dense(output_shape))\n",
    "    \n",
    "    if metric=='accuracy':\n",
    "        mdl.add(tf.keras.layers.Activation('softmax'))\n",
    "\n",
    "    mdl.compile(loss=loss,  optimizer=opt, metrics=[metric])\n",
    "    \n",
    "    if verbose:\n",
    "        print(mdl.summary())\n",
    "    \n",
    "    return mdl"
   ]
  },
  {
   "cell_type": "markdown",
   "metadata": {},
   "source": [
    "# Air Quality"
   ]
  },
  {
   "cell_type": "code",
   "execution_count": 4,
   "metadata": {},
   "outputs": [
    {
     "data": {
      "text/plain": [
       "((17529, 6, 12, 27), (17529, 12))"
      ]
     },
     "execution_count": 4,
     "metadata": {},
     "output_type": "execute_result"
    }
   ],
   "source": [
    "X, Y = pd.read_pickle('ML Data/air_quality.pkl')\n",
    "X.shape, Y.shape"
   ]
  },
  {
   "cell_type": "code",
   "execution_count": 5,
   "metadata": {},
   "outputs": [
    {
     "data": {
      "text/plain": [
       "((17529, 6, 324), (17529, 12))"
      ]
     },
     "execution_count": 5,
     "metadata": {},
     "output_type": "execute_result"
    }
   ],
   "source": [
    "X = X.reshape(-1, X.shape[1], np.prod(X.shape[2:]))\n",
    "X.shape, Y.shape"
   ]
  },
  {
   "cell_type": "code",
   "execution_count": 6,
   "metadata": {},
   "outputs": [],
   "source": [
    "# Model params\n",
    "mdl_params = {\n",
    "    'units': 8,\n",
    "    'input_shape': X.shape[1:],\n",
    "    'output_shape': Y.shape[-1],\n",
    "    'loss': 'mse',\n",
    "    'metric': 'mae',\n",
    "    'verbose': 1,\n",
    "}\n",
    "\n",
    "# Exp params\n",
    "tr_split = 0.80  \n",
    "va_split = 0.1  \n",
    "exp_rep = 5  \n",
    "epochs = 30  \n",
    "batch_size = 32  \n",
    "verbose = 0"
   ]
  },
  {
   "cell_type": "code",
   "execution_count": 7,
   "metadata": {},
   "outputs": [
    {
     "name": "stdout",
     "output_type": "stream",
     "text": [
      "Model: \"sequential\"\n",
      "_________________________________________________________________\n",
      "Layer (type)                 Output Shape              Param #   \n",
      "=================================================================\n",
      "simple_rnn (SimpleRNN)       (None, 8)                 2664      \n",
      "_________________________________________________________________\n",
      "activation (Activation)      (None, 8)                 0         \n",
      "_________________________________________________________________\n",
      "flatten (Flatten)            (None, 8)                 0         \n",
      "_________________________________________________________________\n",
      "dense (Dense)                (None, 8)                 72        \n",
      "_________________________________________________________________\n",
      "activation_1 (Activation)    (None, 8)                 0         \n",
      "_________________________________________________________________\n",
      "dense_1 (Dense)              (None, 12)                108       \n",
      "=================================================================\n",
      "Total params: 2,844\n",
      "Trainable params: 2,844\n",
      "Non-trainable params: 0\n",
      "_________________________________________________________________\n",
      "None\n",
      "110/110 [==============================] - 0s 802us/step - loss: 9.1087e-04 - mae: 0.0186\n",
      "Score:  0.018626974895596504\n",
      "110/110 [==============================] - 0s 806us/step - loss: 0.0011 - mae: 0.0200\n",
      "Score:  0.019985435530543327\n",
      "110/110 [==============================] - 0s 777us/step - loss: 8.9021e-04 - mae: 0.0182\n",
      "Score:  0.018232831731438637\n",
      "110/110 [==============================] - 0s 747us/step - loss: 8.4256e-04 - mae: 0.0177\n",
      "Score:  0.017728643491864204\n",
      "110/110 [==============================] - 0s 754us/step - loss: 9.6736e-04 - mae: 0.0190\n",
      "Score:  0.019042883068323135\n",
      "Final score: 0.01872 +/- 0.00077\n"
     ]
    }
   ],
   "source": [
    "scores = []\n",
    "for i in range(exp_rep):\n",
    "\n",
    "    # Train test split\n",
    "    tr_choice = np.random.choice(X.shape[0], int(X.shape[0]*tr_split), replace=False)\n",
    "    te_choice = np.array(list(set(range(X.shape[0])) - set(tr_choice)))\n",
    "    assert(len(set(tr_choice)) + len(set(te_choice)) == X.shape[0])\n",
    "    \n",
    "    X_tr, Y_tr = X[tr_choice], Y[tr_choice]\n",
    "    X_te, Y_te = X[te_choice], Y[te_choice]    \n",
    "    \n",
    "    mdl = get_model(**mdl_params)\n",
    "    mdl_params['verbose'] = 0\n",
    "    mdl.fit(X_tr, Y_tr, epochs=epochs, batch_size=batch_size, validation_split=va_split, verbose=verbose)\n",
    "    scores.append(mdl.evaluate(X_te, Y_te)[-1])\n",
    "    print('Score: ', scores[-1])\n",
    "    \n",
    "print(f'Final score: {round(np.mean(scores), 5)} +/- {round(np.std(scores), 5)}')"
   ]
  },
  {
   "cell_type": "markdown",
   "metadata": {},
   "source": [
    "# Climate Change"
   ]
  },
  {
   "cell_type": "code",
   "execution_count": 8,
   "metadata": {},
   "outputs": [
    {
     "data": {
      "text/plain": [
       "((2607, 6, 14, 4), (2607, 14))"
      ]
     },
     "execution_count": 8,
     "metadata": {},
     "output_type": "execute_result"
    }
   ],
   "source": [
    "X, Y = pd.read_pickle('ML Data/climate_change.pkl')\n",
    "X.shape, Y.shape"
   ]
  },
  {
   "cell_type": "code",
   "execution_count": 9,
   "metadata": {},
   "outputs": [
    {
     "data": {
      "text/plain": [
       "((2607, 6, 56), (2607, 14))"
      ]
     },
     "execution_count": 9,
     "metadata": {},
     "output_type": "execute_result"
    }
   ],
   "source": [
    "X = X.reshape(-1, X.shape[1], np.prod(X.shape[2:]))\n",
    "X.shape, Y.shape"
   ]
  },
  {
   "cell_type": "code",
   "execution_count": 10,
   "metadata": {},
   "outputs": [],
   "source": [
    "# Model params\n",
    "mdl_params = {\n",
    "    'units': 8,\n",
    "    'input_shape': X.shape[1:],\n",
    "    'output_shape': Y.shape[-1],\n",
    "    'loss': 'mse',\n",
    "    'metric': 'mae',\n",
    "    'verbose': 1,\n",
    "}\n",
    "\n",
    "# Exp params\n",
    "tr_split = 0.80  \n",
    "va_split = 0.1  \n",
    "exp_rep = 5  \n",
    "epochs = 30  \n",
    "batch_size = 32  \n",
    "verbose = 0"
   ]
  },
  {
   "cell_type": "code",
   "execution_count": 11,
   "metadata": {},
   "outputs": [
    {
     "name": "stdout",
     "output_type": "stream",
     "text": [
      "Model: \"sequential_5\"\n",
      "_________________________________________________________________\n",
      "Layer (type)                 Output Shape              Param #   \n",
      "=================================================================\n",
      "simple_rnn_5 (SimpleRNN)     (None, 8)                 520       \n",
      "_________________________________________________________________\n",
      "activation_10 (Activation)   (None, 8)                 0         \n",
      "_________________________________________________________________\n",
      "flatten_5 (Flatten)          (None, 8)                 0         \n",
      "_________________________________________________________________\n",
      "dense_10 (Dense)             (None, 8)                 72        \n",
      "_________________________________________________________________\n",
      "activation_11 (Activation)   (None, 8)                 0         \n",
      "_________________________________________________________________\n",
      "dense_11 (Dense)             (None, 14)                126       \n",
      "=================================================================\n",
      "Total params: 718\n",
      "Trainable params: 718\n",
      "Non-trainable params: 0\n",
      "_________________________________________________________________\n",
      "None\n",
      "17/17 [==============================] - 0s 812us/step - loss: 0.0723 - mae: 0.1953\n",
      "Score:  0.19529500603675842\n",
      "17/17 [==============================] - 0s 850us/step - loss: 0.0873 - mae: 0.2121\n",
      "Score:  0.212118998169899\n",
      "17/17 [==============================] - 0s 889us/step - loss: 0.0636 - mae: 0.1815\n",
      "Score:  0.18149802088737488\n",
      "17/17 [==============================] - 0s 884us/step - loss: 0.0837 - mae: 0.2036\n",
      "Score:  0.20355786383152008\n",
      "17/17 [==============================] - 0s 858us/step - loss: 0.0853 - mae: 0.2028\n",
      "Score:  0.202798530459404\n",
      "Final score: 0.19905 +/- 0.01027\n"
     ]
    }
   ],
   "source": [
    "scores = []\n",
    "for i in range(exp_rep):\n",
    "\n",
    "    # Train test split\n",
    "    tr_choice = np.random.choice(X.shape[0], int(X.shape[0]*tr_split), replace=False)\n",
    "    te_choice = np.array(list(set(range(X.shape[0])) - set(tr_choice)))\n",
    "    assert(len(set(tr_choice)) + len(set(te_choice)) == X.shape[0])\n",
    "    \n",
    "    X_tr, Y_tr = X[tr_choice], Y[tr_choice]\n",
    "    X_te, Y_te = X[te_choice], Y[te_choice]    \n",
    "    \n",
    "    mdl = get_model(**mdl_params)\n",
    "    mdl_params['verbose'] = 0\n",
    "    mdl.fit(X_tr, Y_tr, epochs=epochs, batch_size=batch_size, validation_split=va_split, verbose=verbose)\n",
    "    scores.append(mdl.evaluate(X_te, Y_te)[-1])\n",
    "    print('Score: ', scores[-1])\n",
    "    \n",
    "print(f'Final score: {round(np.mean(scores), 5)} +/- {round(np.std(scores), 5)}')"
   ]
  },
  {
   "cell_type": "markdown",
   "metadata": {},
   "source": [
    "# House Price"
   ]
  },
  {
   "cell_type": "code",
   "execution_count": 12,
   "metadata": {},
   "outputs": [
    {
     "data": {
      "text/plain": [
       "((304, 6, 4, 2), (304, 4))"
      ]
     },
     "execution_count": 12,
     "metadata": {},
     "output_type": "execute_result"
    }
   ],
   "source": [
    "X, Y = pd.read_pickle('ML Data/house_price.pkl')\n",
    "X.shape, Y.shape"
   ]
  },
  {
   "cell_type": "code",
   "execution_count": 13,
   "metadata": {},
   "outputs": [
    {
     "data": {
      "text/plain": [
       "((304, 6, 8), (304, 4))"
      ]
     },
     "execution_count": 13,
     "metadata": {},
     "output_type": "execute_result"
    }
   ],
   "source": [
    "X = X.reshape(-1, X.shape[1], np.prod(X.shape[2:]))\n",
    "X.shape, Y.shape"
   ]
  },
  {
   "cell_type": "code",
   "execution_count": 14,
   "metadata": {},
   "outputs": [],
   "source": [
    "# Model params\n",
    "mdl_params = {\n",
    "    'units': 8,\n",
    "    'input_shape': X.shape[1:],\n",
    "    'output_shape': Y.shape[-1],\n",
    "    'loss': 'mse',\n",
    "    'metric': 'mae',\n",
    "    'verbose': 1,\n",
    "}\n",
    "\n",
    "# Exp params\n",
    "tr_split = 0.80  \n",
    "va_split = 0.1  \n",
    "exp_rep = 5  \n",
    "epochs = 30  \n",
    "batch_size = 32  \n",
    "verbose = 0"
   ]
  },
  {
   "cell_type": "code",
   "execution_count": 15,
   "metadata": {},
   "outputs": [
    {
     "name": "stdout",
     "output_type": "stream",
     "text": [
      "Model: \"sequential_10\"\n",
      "_________________________________________________________________\n",
      "Layer (type)                 Output Shape              Param #   \n",
      "=================================================================\n",
      "simple_rnn_10 (SimpleRNN)    (None, 8)                 136       \n",
      "_________________________________________________________________\n",
      "activation_20 (Activation)   (None, 8)                 0         \n",
      "_________________________________________________________________\n",
      "flatten_10 (Flatten)         (None, 8)                 0         \n",
      "_________________________________________________________________\n",
      "dense_20 (Dense)             (None, 8)                 72        \n",
      "_________________________________________________________________\n",
      "activation_21 (Activation)   (None, 8)                 0         \n",
      "_________________________________________________________________\n",
      "dense_21 (Dense)             (None, 4)                 36        \n",
      "=================================================================\n",
      "Total params: 244\n",
      "Trainable params: 244\n",
      "Non-trainable params: 0\n",
      "_________________________________________________________________\n",
      "None\n",
      "2/2 [==============================] - 0s 2ms/step - loss: 0.8331 - mae: 0.7473\n",
      "Score:  0.7472535967826843\n",
      "2/2 [==============================] - 0s 2ms/step - loss: 0.8339 - mae: 0.7069\n",
      "Score:  0.7069464325904846\n",
      "2/2 [==============================] - 0s 2ms/step - loss: 0.7011 - mae: 0.6752\n",
      "Score:  0.6751834750175476\n",
      "2/2 [==============================] - 0s 2ms/step - loss: 0.7954 - mae: 0.7159\n",
      "Score:  0.7158893346786499\n",
      "2/2 [==============================] - 0s 2ms/step - loss: 0.8215 - mae: 0.7145\n",
      "Score:  0.7144835591316223\n",
      "Final score: 0.71195 +/- 0.023\n"
     ]
    }
   ],
   "source": [
    "scores = []\n",
    "for i in range(exp_rep):\n",
    "\n",
    "    # Train test split\n",
    "    tr_choice = np.random.choice(X.shape[0], int(X.shape[0]*tr_split), replace=False)\n",
    "    te_choice = np.array(list(set(range(X.shape[0])) - set(tr_choice)))\n",
    "    assert(len(set(tr_choice)) + len(set(te_choice)) == X.shape[0])\n",
    "    \n",
    "    X_tr, Y_tr = X[tr_choice], Y[tr_choice]\n",
    "    X_te, Y_te = X[te_choice], Y[te_choice]    \n",
    "    \n",
    "    mdl = get_model(**mdl_params)\n",
    "    mdl_params['verbose'] = 0\n",
    "    mdl.fit(X_tr, Y_tr, epochs=epochs, batch_size=batch_size, validation_split=va_split, verbose=verbose)\n",
    "    scores.append(mdl.evaluate(X_te, Y_te)[-1])\n",
    "    print('Score: ', scores[-1])\n",
    "    \n",
    "print(f'Final score: {round(np.mean(scores), 5)} +/- {round(np.std(scores), 5)}')"
   ]
  },
  {
   "cell_type": "markdown",
   "metadata": {},
   "source": [
    "# Activity Recognition"
   ]
  },
  {
   "cell_type": "code",
   "execution_count": 16,
   "metadata": {},
   "outputs": [
    {
     "data": {
      "text/plain": [
       "((34199, 24, 3, 3), (34199, 5))"
      ]
     },
     "execution_count": 16,
     "metadata": {},
     "output_type": "execute_result"
    }
   ],
   "source": [
    "X, Y = pd.read_pickle('ML Data/activity_recognition.pkl')\n",
    "X.shape, Y.shape"
   ]
  },
  {
   "cell_type": "code",
   "execution_count": 17,
   "metadata": {},
   "outputs": [
    {
     "data": {
      "text/plain": [
       "((34199, 24, 9), (34199, 5))"
      ]
     },
     "execution_count": 17,
     "metadata": {},
     "output_type": "execute_result"
    }
   ],
   "source": [
    "X = X.reshape(-1, X.shape[1], np.prod(X.shape[2:]))\n",
    "X.shape, Y.shape"
   ]
  },
  {
   "cell_type": "code",
   "execution_count": 18,
   "metadata": {},
   "outputs": [],
   "source": [
    "# Model params\n",
    "mdl_params = {\n",
    "    'units': 8,\n",
    "    'input_shape': X.shape[1:],\n",
    "    'output_shape': Y.shape[-1],\n",
    "    'loss': 'categorical_crossentropy',\n",
    "    'metric': 'accuracy',\n",
    "    'verbose': 1,\n",
    "}\n",
    "\n",
    "# Exp params\n",
    "tr_split = 0.80  \n",
    "va_split = 0.1  \n",
    "exp_rep = 5  \n",
    "epochs = 30  \n",
    "batch_size = 32  \n",
    "verbose = 0"
   ]
  },
  {
   "cell_type": "code",
   "execution_count": 19,
   "metadata": {},
   "outputs": [
    {
     "name": "stdout",
     "output_type": "stream",
     "text": [
      "Model: \"sequential_15\"\n",
      "_________________________________________________________________\n",
      "Layer (type)                 Output Shape              Param #   \n",
      "=================================================================\n",
      "simple_rnn_15 (SimpleRNN)    (None, 8)                 144       \n",
      "_________________________________________________________________\n",
      "activation_30 (Activation)   (None, 8)                 0         \n",
      "_________________________________________________________________\n",
      "flatten_15 (Flatten)         (None, 8)                 0         \n",
      "_________________________________________________________________\n",
      "dense_30 (Dense)             (None, 8)                 72        \n",
      "_________________________________________________________________\n",
      "activation_31 (Activation)   (None, 8)                 0         \n",
      "_________________________________________________________________\n",
      "dense_31 (Dense)             (None, 5)                 45        \n",
      "_________________________________________________________________\n",
      "activation_32 (Activation)   (None, 5)                 0         \n",
      "=================================================================\n",
      "Total params: 261\n",
      "Trainable params: 261\n",
      "Non-trainable params: 0\n",
      "_________________________________________________________________\n",
      "None\n",
      "214/214 [==============================] - 0s 1ms/step - loss: 0.9701 - accuracy: 0.5197\n",
      "Score:  0.5197368264198303\n",
      "214/214 [==============================] - 0s 976us/step - loss: 1.1006 - accuracy: 0.4322\n",
      "Score:  0.4321637451648712\n",
      "214/214 [==============================] - 0s 1ms/step - loss: 0.9755 - accuracy: 0.5504\n",
      "Score:  0.5504385828971863\n",
      "214/214 [==============================] - 0s 994us/step - loss: 1.2336 - accuracy: 0.4295\n",
      "Score:  0.42953217029571533\n",
      "214/214 [==============================] - 0s 993us/step - loss: 0.8738 - accuracy: 0.6047\n",
      "Score:  0.6046783328056335\n",
      "Final score: 0.50731 +/- 0.0681\n"
     ]
    }
   ],
   "source": [
    "scores = []\n",
    "for i in range(exp_rep):\n",
    "\n",
    "    # Train test split\n",
    "    tr_choice = np.random.choice(X.shape[0], int(X.shape[0]*tr_split), replace=False)\n",
    "    te_choice = np.array(list(set(range(X.shape[0])) - set(tr_choice)))\n",
    "    assert(len(set(tr_choice)) + len(set(te_choice)) == X.shape[0])\n",
    "    \n",
    "    X_tr, Y_tr = X[tr_choice], Y[tr_choice]\n",
    "    X_te, Y_te = X[te_choice], Y[te_choice]    \n",
    "    \n",
    "    mdl = get_model(**mdl_params)\n",
    "    mdl_params['verbose'] = 0\n",
    "    mdl.fit(X_tr, Y_tr, epochs=epochs, batch_size=batch_size, validation_split=va_split, verbose=verbose)\n",
    "    scores.append(mdl.evaluate(X_te, Y_te)[-1])\n",
    "    print('Score: ', scores[-1])\n",
    "    \n",
    "print(f'Final score: {round(np.mean(scores), 5)} +/- {round(np.std(scores), 5)}')"
   ]
  },
  {
   "cell_type": "code",
   "execution_count": null,
   "metadata": {},
   "outputs": [],
   "source": []
  }
 ],
 "metadata": {
  "kernelspec": {
   "display_name": "Python 3",
   "language": "python",
   "name": "python3"
  },
  "language_info": {
   "codemirror_mode": {
    "name": "ipython",
    "version": 3
   },
   "file_extension": ".py",
   "mimetype": "text/x-python",
   "name": "python",
   "nbconvert_exporter": "python",
   "pygments_lexer": "ipython3",
   "version": "3.7.9"
  }
 },
 "nbformat": 4,
 "nbformat_minor": 4
}
